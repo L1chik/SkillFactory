{
 "cells": [
  {
   "cell_type": "code",
   "execution_count": 13,
   "metadata": {},
   "outputs": [
    {
     "name": "stdout",
     "output_type": "stream",
     "text": [
      "Collecting cvxpy\n",
      "  Using cached cvxpy-1.1.10-cp38-cp38-macosx_10_9_x86_64.whl (845 kB)\n",
      "Requirement already satisfied: scipy>=1.1.0 in /usr/local/lib/python3.8/site-packages (from cvxpy) (1.5.4)\n",
      "Collecting ecos>=2\n",
      "  Using cached ecos-2.0.7.post1.tar.gz (126 kB)\n",
      "Requirement already satisfied: numpy>=1.15 in /usr/local/lib/python3.8/site-packages (from cvxpy) (1.18.5)\n",
      "Requirement already satisfied: osqp>=0.4.1 in /usr/local/lib/python3.8/site-packages (from cvxpy) (0.6.2.post0)\n",
      "Collecting scs>=1.1.6\n",
      "  Using cached scs-2.1.2.tar.gz (3.5 MB)\n",
      "Requirement already satisfied: qdldl in /usr/local/lib/python3.8/site-packages (from osqp>=0.4.1->cvxpy) (0.1.5.post0)\n",
      "Building wheels for collected packages: ecos, scs\n",
      "  Building wheel for ecos (setup.py) ... \u001b[?25lerror\n",
      "\u001b[31m  ERROR: Command errored out with exit status 1:\n",
      "   command: /usr/local/opt/python@3.8/bin/python3.8 -u -c 'import sys, setuptools, tokenize; sys.argv[0] = '\"'\"'/private/var/folders/vn/q6fdm8dx7mzbgk1w584l1njh0000gn/T/pip-install-95i65ef8/ecos_1ea96692179545d7b5e7d4f766d765a7/setup.py'\"'\"'; __file__='\"'\"'/private/var/folders/vn/q6fdm8dx7mzbgk1w584l1njh0000gn/T/pip-install-95i65ef8/ecos_1ea96692179545d7b5e7d4f766d765a7/setup.py'\"'\"';f=getattr(tokenize, '\"'\"'open'\"'\"', open)(__file__);code=f.read().replace('\"'\"'\\r\\n'\"'\"', '\"'\"'\\n'\"'\"');f.close();exec(compile(code, __file__, '\"'\"'exec'\"'\"'))' bdist_wheel -d /private/var/folders/vn/q6fdm8dx7mzbgk1w584l1njh0000gn/T/pip-wheel-l7iokfl8\n",
      "       cwd: /private/var/folders/vn/q6fdm8dx7mzbgk1w584l1njh0000gn/T/pip-install-95i65ef8/ecos_1ea96692179545d7b5e7d4f766d765a7/\n",
      "  Complete output (24 lines):\n",
      "  running bdist_wheel\n",
      "  running build\n",
      "  running build_py\n",
      "  creating build\n",
      "  creating build/lib.macosx-10.15-x86_64-3.8\n",
      "  creating build/lib.macosx-10.15-x86_64-3.8/ecos\n",
      "  copying src/ecos/version.py -> build/lib.macosx-10.15-x86_64-3.8/ecos\n",
      "  copying src/ecos/__init__.py -> build/lib.macosx-10.15-x86_64-3.8/ecos\n",
      "  copying src/ecos/ecos.py -> build/lib.macosx-10.15-x86_64-3.8/ecos\n",
      "  running build_ext\n",
      "  building '_ecos' extension\n",
      "  creating build/temp.macosx-10.15-x86_64-3.8\n",
      "  creating build/temp.macosx-10.15-x86_64-3.8/src\n",
      "  creating build/temp.macosx-10.15-x86_64-3.8/ecos\n",
      "  creating build/temp.macosx-10.15-x86_64-3.8/ecos/external\n",
      "  creating build/temp.macosx-10.15-x86_64-3.8/ecos/external/ldl\n",
      "  creating build/temp.macosx-10.15-x86_64-3.8/ecos/external/ldl/src\n",
      "  creating build/temp.macosx-10.15-x86_64-3.8/ecos/src\n",
      "  creating build/temp.macosx-10.15-x86_64-3.8/ecos/external/amd\n",
      "  creating build/temp.macosx-10.15-x86_64-3.8/ecos/external/amd/src\n",
      "  creating build/temp.macosx-10.15-x86_64-3.8/ecos/ecos_bb\n",
      "  clang -Wno-unused-result -Wsign-compare -Wunreachable-code -fno-common -dynamic -DNDEBUG -g -fwrapv -O3 -Wall -I/Library/Developer/CommandLineTools/SDKs/MacOSX10.15.sdk/usr/include -I/Library/Developer/CommandLineTools/SDKs/MacOSX10.15.sdk/System/Library/Frameworks/Tk.framework/Versions/8.5/Headers -DPYTHON -DDLONG -DLDL_LONG -DCTRLC=1 -Iecos/include -Iecos/external/amd/include -Iecos/external/ldl/include -Iecos/external/SuiteSparse_config -I/usr/local/include -I/usr/local/opt/openssl@1.1/include -I/usr/local/opt/sqlite/include -I/usr/local/Cellar/python@3.8/3.8.6/Frameworks/Python.framework/Versions/3.8/include/python3.8 -I/usr/local/lib/python3.8/site-packages/numpy/core/include -c src/ecosmodule.c -o build/temp.macosx-10.15-x86_64-3.8/src/ecosmodule.o\n",
      "  xcrun: error: invalid active developer path (/Library/Developer/CommandLineTools), missing xcrun at: /Library/Developer/CommandLineTools/usr/bin/xcrun\n",
      "  error: command 'clang' failed with exit status 1\n",
      "  ----------------------------------------\u001b[0m\n",
      "\u001b[31m  ERROR: Failed building wheel for ecos\u001b[0m\n",
      "\u001b[?25h  Running setup.py clean for ecos\n",
      "  Building wheel for scs (setup.py) ... \u001b[?25lerror\n",
      "\u001b[31m  ERROR: Command errored out with exit status 1:\n",
      "   command: /usr/local/opt/python@3.8/bin/python3.8 -u -c 'import sys, setuptools, tokenize; sys.argv[0] = '\"'\"'/private/var/folders/vn/q6fdm8dx7mzbgk1w584l1njh0000gn/T/pip-install-95i65ef8/scs_545afd845b634d47984ecb982fcec41b/setup.py'\"'\"'; __file__='\"'\"'/private/var/folders/vn/q6fdm8dx7mzbgk1w584l1njh0000gn/T/pip-install-95i65ef8/scs_545afd845b634d47984ecb982fcec41b/setup.py'\"'\"';f=getattr(tokenize, '\"'\"'open'\"'\"', open)(__file__);code=f.read().replace('\"'\"'\\r\\n'\"'\"', '\"'\"'\\n'\"'\"');f.close();exec(compile(code, __file__, '\"'\"'exec'\"'\"'))' bdist_wheel -d /private/var/folders/vn/q6fdm8dx7mzbgk1w584l1njh0000gn/T/pip-wheel-5phw3t2l\n",
      "       cwd: /private/var/folders/vn/q6fdm8dx7mzbgk1w584l1njh0000gn/T/pip-install-95i65ef8/scs_545afd845b634d47984ecb982fcec41b/\n",
      "  Complete output (52 lines):\n",
      "  Namespace(blas64=False, extraverbose=False, float32=False, gpu=False, int32=False, scs=False)\n",
      "  running bdist_wheel\n",
      "  running build\n",
      "  running build_py\n",
      "  creating build\n",
      "  creating build/lib.macosx-10.15-x86_64-3.8\n",
      "  creating build/lib.macosx-10.15-x86_64-3.8/scs\n",
      "  copying src/__init__.py -> build/lib.macosx-10.15-x86_64-3.8/scs\n",
      "  running build_ext\n",
      "  blas_mkl_info:\n",
      "    NOT AVAILABLE\n",
      "  blis_info:\n",
      "    NOT AVAILABLE\n",
      "  openblas_info:\n",
      "      libraries = ['openblas', 'openblas']\n",
      "      library_dirs = ['/usr/local/lib']\n",
      "      language = c\n",
      "      define_macros = [('HAVE_CBLAS', None)]\n",
      "  blas_opt_info:\n",
      "      libraries = ['openblas', 'openblas']\n",
      "      library_dirs = ['/usr/local/lib']\n",
      "      language = c\n",
      "      define_macros = [('HAVE_CBLAS', None)]\n",
      "  lapack_mkl_info:\n",
      "    NOT AVAILABLE\n",
      "  openblas_lapack_info:\n",
      "      libraries = ['openblas', 'openblas']\n",
      "      library_dirs = ['/usr/local/lib']\n",
      "      language = c\n",
      "      define_macros = [('HAVE_CBLAS', None)]\n",
      "  lapack_opt_info:\n",
      "      libraries = ['openblas', 'openblas']\n",
      "      library_dirs = ['/usr/local/lib']\n",
      "      language = c\n",
      "      define_macros = [('HAVE_CBLAS', None)]\n",
      "  {'extra_compile_args': ['-msse3', '-I/System/Library/Frameworks/vecLib.framework/Headers'], 'extra_link_args': ['-Wl,-framework', '-Wl,Accelerate'], 'define_macros': [('NO_ATLAS_INFO', 3), ('HAVE_CBLAS', None)]}\n",
      "  {'extra_compile_args': ['-msse3', '-I/System/Library/Frameworks/vecLib.framework/Headers'], 'extra_link_args': ['-Wl,-framework', '-Wl,Accelerate'], 'define_macros': [('NO_ATLAS_INFO', 3), ('HAVE_CBLAS', None)]}\n",
      "  xcrun: error: invalid active developer path (/Library/Developer/CommandLineTools), missing xcrun at: /Library/Developer/CommandLineTools/usr/bin/xcrun\n",
      "  xcrun: error: invalid active developer path (/Library/Developer/CommandLineTools), missing xcrun at: /Library/Developer/CommandLineTools/usr/bin/xcrun\n",
      "  xcrun: error: invalid active developer path (/Library/Developer/CommandLineTools), missing xcrun at: /Library/Developer/CommandLineTools/usr/bin/xcrun\n",
      "  xcrun: error: invalid active developer path (/Library/Developer/CommandLineTools), missing xcrun at: /Library/Developer/CommandLineTools/usr/bin/xcrun\n",
      "  xcrun: error: invalid active developer path (/Library/Developer/CommandLineTools), missing xcrun at: /Library/Developer/CommandLineTools/usr/bin/xcrun\n",
      "  xcrun: error: invalid active developer path (/Library/Developer/CommandLineTools), missing xcrun at: /Library/Developer/CommandLineTools/usr/bin/xcrun\n",
      "  xcrun: error: invalid active developer path (/Library/Developer/CommandLineTools), missing xcrun at: /Library/Developer/CommandLineTools/usr/bin/xcrun\n",
      "  xcrun: error: invalid active developer path (/Library/Developer/CommandLineTools), missing xcrun at: /Library/Developer/CommandLineTools/usr/bin/xcrun\n",
      "  xcrun: error: invalid active developer path (/Library/Developer/CommandLineTools), missing xcrun at: /Library/Developer/CommandLineTools/usr/bin/xcrun\n",
      "  xcrun: error: invalid active developer path (/Library/Developer/CommandLineTools), missing xcrun at: /Library/Developer/CommandLineTools/usr/bin/xcrun\n",
      "  xcrun: error: invalid active developer path (/Library/Developer/CommandLineTools), missing xcrun at: /Library/Developer/CommandLineTools/usr/bin/xcrun\n",
      "  xcrun: error: invalid active developer path (/Library/Developer/CommandLineTools), missing xcrun at: /Library/Developer/CommandLineTools/usr/bin/xcrun\n",
      "  xcrun: error: invalid active developer path (/Library/Developer/CommandLineTools), missing xcrun at: /Library/Developer/CommandLineTools/usr/bin/xcrun\n",
      "  xcrun: error: invalid active developer path (/Library/Developer/CommandLineTools), missing xcrun at: /Library/Developer/CommandLineTools/usr/bin/xcrun\n",
      "  error: Command \"clang -Wno-unused-result -Wsign-compare -Wunreachable-code -fno-common -dynamic -DNDEBUG -g -fwrapv -O3 -Wall -I/Library/Developer/CommandLineTools/SDKs/MacOSX10.15.sdk/usr/include -I/Library/Developer/CommandLineTools/SDKs/MacOSX10.15.sdk/System/Library/Frameworks/Tk.framework/Versions/8.5/Headers -DPYTHON -DCTRLC=1 -DDLONG=1 -DCOPYAMATRIX -DUSE_LAPACK -DNO_ATLAS_INFO=3 -DHAVE_CBLAS -DNO_ATLAS_INFO=3 -DHAVE_CBLAS -Iscs/include -Iscs/linsys -Iscs/linsys/cpu/direct/ -Iscs/linsys/external/amd -Iscs/linsys/external/dqlql -I/usr/local/lib/python3.8/site-packages/numpy/core/include -I/usr/local/include -I/usr/local/opt/openssl@1.1/include -I/usr/local/opt/sqlite/include -I/usr/local/Cellar/python@3.8/3.8.6/Frameworks/Python.framework/Versions/3.8/include/python3.8 -c src/scsmodule.c -o build/temp.macosx-10.15-x86_64-3.8/src/scsmodule.o -O3 -msse3 -I/System/Library/Frameworks/vecLib.framework/Headers -msse3 -I/System/Library/Frameworks/vecLib.framework/Headers\" failed with exit status 1\n",
      "  ----------------------------------------\u001b[0m\n",
      "\u001b[31m  ERROR: Failed building wheel for scs\u001b[0m\n",
      "\u001b[?25h  Running setup.py clean for scs\n"
     ]
    },
    {
     "name": "stdout",
     "output_type": "stream",
     "text": [
      "Failed to build ecos scs\n",
      "Installing collected packages: scs, ecos, cvxpy\n",
      "    Running setup.py install for scs ... \u001b[?25lerror\n",
      "\u001b[31m    ERROR: Command errored out with exit status 1:\n",
      "     command: /usr/local/opt/python@3.8/bin/python3.8 -u -c 'import sys, setuptools, tokenize; sys.argv[0] = '\"'\"'/private/var/folders/vn/q6fdm8dx7mzbgk1w584l1njh0000gn/T/pip-install-95i65ef8/scs_545afd845b634d47984ecb982fcec41b/setup.py'\"'\"'; __file__='\"'\"'/private/var/folders/vn/q6fdm8dx7mzbgk1w584l1njh0000gn/T/pip-install-95i65ef8/scs_545afd845b634d47984ecb982fcec41b/setup.py'\"'\"';f=getattr(tokenize, '\"'\"'open'\"'\"', open)(__file__);code=f.read().replace('\"'\"'\\r\\n'\"'\"', '\"'\"'\\n'\"'\"');f.close();exec(compile(code, __file__, '\"'\"'exec'\"'\"'))' install --record /private/var/folders/vn/q6fdm8dx7mzbgk1w584l1njh0000gn/T/pip-record-bm4vabb6/install-record.txt --single-version-externally-managed --compile --install-headers /usr/local/include/python3.8/scs\n",
      "         cwd: /private/var/folders/vn/q6fdm8dx7mzbgk1w584l1njh0000gn/T/pip-install-95i65ef8/scs_545afd845b634d47984ecb982fcec41b/\n",
      "    Complete output (52 lines):\n",
      "    Namespace(blas64=False, extraverbose=False, float32=False, gpu=False, int32=False, scs=False)\n",
      "    running install\n",
      "    running build\n",
      "    running build_py\n",
      "    creating build\n",
      "    creating build/lib.macosx-10.15-x86_64-3.8\n",
      "    creating build/lib.macosx-10.15-x86_64-3.8/scs\n",
      "    copying src/__init__.py -> build/lib.macosx-10.15-x86_64-3.8/scs\n",
      "    running build_ext\n",
      "    blas_mkl_info:\n",
      "      NOT AVAILABLE\n",
      "    blis_info:\n",
      "      NOT AVAILABLE\n",
      "    openblas_info:\n",
      "        libraries = ['openblas', 'openblas']\n",
      "        library_dirs = ['/usr/local/lib']\n",
      "        language = c\n",
      "        define_macros = [('HAVE_CBLAS', None)]\n",
      "    blas_opt_info:\n",
      "        libraries = ['openblas', 'openblas']\n",
      "        library_dirs = ['/usr/local/lib']\n",
      "        language = c\n",
      "        define_macros = [('HAVE_CBLAS', None)]\n",
      "    lapack_mkl_info:\n",
      "      NOT AVAILABLE\n",
      "    openblas_lapack_info:\n",
      "        libraries = ['openblas', 'openblas']\n",
      "        library_dirs = ['/usr/local/lib']\n",
      "        language = c\n",
      "        define_macros = [('HAVE_CBLAS', None)]\n",
      "    lapack_opt_info:\n",
      "        libraries = ['openblas', 'openblas']\n",
      "        library_dirs = ['/usr/local/lib']\n",
      "        language = c\n",
      "        define_macros = [('HAVE_CBLAS', None)]\n",
      "    {'extra_compile_args': ['-msse3', '-I/System/Library/Frameworks/vecLib.framework/Headers'], 'extra_link_args': ['-Wl,-framework', '-Wl,Accelerate'], 'define_macros': [('NO_ATLAS_INFO', 3), ('HAVE_CBLAS', None)]}\n",
      "    {'extra_compile_args': ['-msse3', '-I/System/Library/Frameworks/vecLib.framework/Headers'], 'extra_link_args': ['-Wl,-framework', '-Wl,Accelerate'], 'define_macros': [('NO_ATLAS_INFO', 3), ('HAVE_CBLAS', None)]}\n",
      "    xcrun: error: invalid active developer path (/Library/Developer/CommandLineTools), missing xcrun at: /Library/Developer/CommandLineTools/usr/bin/xcrun\n",
      "    xcrun: error: invalid active developer path (/Library/Developer/CommandLineTools), missing xcrun at: /Library/Developer/CommandLineTools/usr/bin/xcrun\n",
      "    xcrun: error: invalid active developer path (/Library/Developer/CommandLineTools), missing xcrun at: /Library/Developer/CommandLineTools/usr/bin/xcrun\n",
      "    xcrun: error: invalid active developer path (/Library/Developer/CommandLineTools), missing xcrun at: /Library/Developer/CommandLineTools/usr/bin/xcrun\n",
      "    xcrun: error: invalid active developer path (/Library/Developer/CommandLineTools), missing xcrun at: /Library/Developer/CommandLineTools/usr/bin/xcrun\n",
      "    xcrun: error: invalid active developer path (/Library/Developer/CommandLineTools), missing xcrun at: /Library/Developer/CommandLineTools/usr/bin/xcrun\n",
      "    xcrun: error: invalid active developer path (/Library/Developer/CommandLineTools), missing xcrun at: /Library/Developer/CommandLineTools/usr/bin/xcrun\n",
      "    xcrun: error: invalid active developer path (/Library/Developer/CommandLineTools), missing xcrun at: /Library/Developer/CommandLineTools/usr/bin/xcrun\n",
      "    xcrun: error: invalid active developer path (/Library/Developer/CommandLineTools), missing xcrun at: /Library/Developer/CommandLineTools/usr/bin/xcrun\n",
      "    xcrun: error: invalid active developer path (/Library/Developer/CommandLineTools), missing xcrun at: /Library/Developer/CommandLineTools/usr/bin/xcrun\n",
      "    xcrun: error: invalid active developer path (/Library/Developer/CommandLineTools), missing xcrun at: /Library/Developer/CommandLineTools/usr/bin/xcrun\n",
      "    xcrun: error: invalid active developer path (/Library/Developer/CommandLineTools), missing xcrun at: /Library/Developer/CommandLineTools/usr/bin/xcrun\n",
      "    xcrun: error: invalid active developer path (/Library/Developer/CommandLineTools), missing xcrun at: /Library/Developer/CommandLineTools/usr/bin/xcrun\n",
      "    xcrun: error: invalid active developer path (/Library/Developer/CommandLineTools), missing xcrun at: /Library/Developer/CommandLineTools/usr/bin/xcrun\n",
      "    error: Command \"clang -Wno-unused-result -Wsign-compare -Wunreachable-code -fno-common -dynamic -DNDEBUG -g -fwrapv -O3 -Wall -I/Library/Developer/CommandLineTools/SDKs/MacOSX10.15.sdk/usr/include -I/Library/Developer/CommandLineTools/SDKs/MacOSX10.15.sdk/System/Library/Frameworks/Tk.framework/Versions/8.5/Headers -DPYTHON -DCTRLC=1 -DDLONG=1 -DCOPYAMATRIX -DUSE_LAPACK -DNO_ATLAS_INFO=3 -DHAVE_CBLAS -DNO_ATLAS_INFO=3 -DHAVE_CBLAS -Iscs/include -Iscs/linsys -Iscs/linsys/cpu/direct/ -Iscs/linsys/external/amd -Iscs/linsys/external/dqlql -I/usr/local/lib/python3.8/site-packages/numpy/core/include -I/usr/local/include -I/usr/local/opt/openssl@1.1/include -I/usr/local/opt/sqlite/include -I/usr/local/Cellar/python@3.8/3.8.6/Frameworks/Python.framework/Versions/3.8/include/python3.8 -c src/scsmodule.c -o build/temp.macosx-10.15-x86_64-3.8/src/scsmodule.o -O3 -msse3 -I/System/Library/Frameworks/vecLib.framework/Headers -msse3 -I/System/Library/Frameworks/vecLib.framework/Headers\" failed with exit status 1\n",
      "    ----------------------------------------\u001b[0m\n",
      "\u001b[31mERROR: Command errored out with exit status 1: /usr/local/opt/python@3.8/bin/python3.8 -u -c 'import sys, setuptools, tokenize; sys.argv[0] = '\"'\"'/private/var/folders/vn/q6fdm8dx7mzbgk1w584l1njh0000gn/T/pip-install-95i65ef8/scs_545afd845b634d47984ecb982fcec41b/setup.py'\"'\"'; __file__='\"'\"'/private/var/folders/vn/q6fdm8dx7mzbgk1w584l1njh0000gn/T/pip-install-95i65ef8/scs_545afd845b634d47984ecb982fcec41b/setup.py'\"'\"';f=getattr(tokenize, '\"'\"'open'\"'\"', open)(__file__);code=f.read().replace('\"'\"'\\r\\n'\"'\"', '\"'\"'\\n'\"'\"');f.close();exec(compile(code, __file__, '\"'\"'exec'\"'\"'))' install --record /private/var/folders/vn/q6fdm8dx7mzbgk1w584l1njh0000gn/T/pip-record-bm4vabb6/install-record.txt --single-version-externally-managed --compile --install-headers /usr/local/include/python3.8/scs Check the logs for full command output.\u001b[0m\n",
      "\u001b[?25h"
     ]
    }
   ],
   "source": [
    "import numpy as np\n",
    "from scipy.optimize import linprog\n",
    "np.set_printoptions(suppress=True)\n",
    "# import cvxpy\n",
    "!pip install cvxpy"
   ]
  },
  {
   "cell_type": "code",
   "execution_count": 29,
   "metadata": {},
   "outputs": [],
   "source": [
    "values = [4, 2, 1, 7, 3, 6]\n",
    "weights = [5, 9, 8, 2, 6, 5]\n",
    "C = 15\n",
    "n = 6"
   ]
  },
  {
   "cell_type": "code",
   "execution_count": 30,
   "metadata": {},
   "outputs": [],
   "source": [
    "c = - np.array(values)\n",
    "A = np.array(weights)         #shape = (6,)\n",
    "A = np.expand_dims(A, 0)      #shape = (1,6)\n",
    "b = np.array([C])"
   ]
  },
  {
   "cell_type": "code",
   "execution_count": 31,
   "metadata": {},
   "outputs": [
    {
     "data": {
      "text/plain": [
       "(1, 6, 1)"
      ]
     },
     "execution_count": 31,
     "metadata": {},
     "output_type": "execute_result"
    }
   ],
   "source": [
    "np.expand_dims(A,2).shape"
   ]
  },
  {
   "cell_type": "code",
   "execution_count": 32,
   "metadata": {},
   "outputs": [
    {
     "data": {
      "text/plain": [
       "     con: array([], dtype=float64)\n",
       "     fun: -52.50000000003075\n",
       " message: 'Optimization terminated successfully.'\n",
       "     nit: 5\n",
       "   slack: array([-0.])\n",
       "  status: 0\n",
       " success: True\n",
       "       x: array([0. , 0. , 0. , 7.5, 0. , 0. ])"
      ]
     },
     "execution_count": 32,
     "metadata": {},
     "output_type": "execute_result"
    }
   ],
   "source": [
    "linprog(c=c, A_ub=A, b_ub=b)"
   ]
  },
  {
   "cell_type": "code",
   "execution_count": 5,
   "metadata": {},
   "outputs": [
    {
     "ename": "NameError",
     "evalue": "name 'cvxpy' is not defined",
     "output_type": "error",
     "traceback": [
      "\u001b[0;31m---------------------------------------------------------------------------\u001b[0m",
      "\u001b[0;31mNameError\u001b[0m                                 Traceback (most recent call last)",
      "\u001b[0;32m<ipython-input-5-ba22f0856e81>\u001b[0m in \u001b[0;36m<module>\u001b[0;34m\u001b[0m\n\u001b[0;32m----> 1\u001b[0;31m \u001b[0mx\u001b[0m \u001b[0;34m=\u001b[0m \u001b[0mcvxpy\u001b[0m\u001b[0;34m.\u001b[0m\u001b[0mVariable\u001b[0m\u001b[0;34m(\u001b[0m\u001b[0mshape\u001b[0m\u001b[0;34m=\u001b[0m\u001b[0mn\u001b[0m\u001b[0;34m,\u001b[0m \u001b[0minteger\u001b[0m \u001b[0;34m=\u001b[0m \u001b[0;32mTrue\u001b[0m\u001b[0;34m)\u001b[0m\u001b[0;34m\u001b[0m\u001b[0;34m\u001b[0m\u001b[0m\n\u001b[0m",
      "\u001b[0;31mNameError\u001b[0m: name 'cvxpy' is not defined"
     ]
    }
   ],
   "source": [
    "x = cvxpy.Variable(shape=n, integer = True)"
   ]
  },
  {
   "cell_type": "code",
   "execution_count": null,
   "metadata": {},
   "outputs": [],
   "source": []
  }
 ],
 "metadata": {
  "kernelspec": {
   "display_name": "Python 3",
   "language": "python",
   "name": "python3"
  },
  "language_info": {
   "codemirror_mode": {
    "name": "ipython",
    "version": 3
   },
   "file_extension": ".py",
   "mimetype": "text/x-python",
   "name": "python",
   "nbconvert_exporter": "python",
   "pygments_lexer": "ipython3",
   "version": "3.8.6"
  }
 },
 "nbformat": 4,
 "nbformat_minor": 4
}
