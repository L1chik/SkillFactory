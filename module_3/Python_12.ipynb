{
 "cells": [
  {
   "cell_type": "code",
   "execution_count": 5,
   "metadata": {},
   "outputs": [],
   "source": [
    "import pandas as pd\n",
    "import numpy as np\n",
    "from datetime import datetime, timedelta\n",
    "\n",
    "log = pd.read_csv('log.csv.xls', encoding='utf-8', header=None)\n",
    "user = pd.read_csv('users.csv.xls', encoding='koi8_r', sep='\\t', header=None)\n",
    "\n",
    "log.columns = ['user_id', 'time', 'bet', 'win']\n",
    "user.columns = ['user_id', 'email', 'geo']\n",
    "\n",
    "def correct_id(user):\n",
    "    if '#error' in user:\n",
    "        return ''\n",
    "    else:\n",
    "        return user[user.find(\"user\"):]\n",
    "log.user_id = log.user_id.apply(correct_id)\n",
    "log.time = log.time.str.replace('[', '')"
   ]
  },
  {
   "cell_type": "code",
   "execution_count": 129,
   "metadata": {},
   "outputs": [
    {
     "data": {
      "text/html": [
       "<div>\n",
       "<style scoped>\n",
       "    .dataframe tbody tr th:only-of-type {\n",
       "        vertical-align: middle;\n",
       "    }\n",
       "\n",
       "    .dataframe tbody tr th {\n",
       "        vertical-align: top;\n",
       "    }\n",
       "\n",
       "    .dataframe thead th {\n",
       "        text-align: right;\n",
       "    }\n",
       "</style>\n",
       "<table border=\"1\" class=\"dataframe\">\n",
       "  <thead>\n",
       "    <tr style=\"text-align: right;\">\n",
       "      <th></th>\n",
       "      <th>user_id</th>\n",
       "      <th>time</th>\n",
       "      <th>bet</th>\n",
       "      <th>win</th>\n",
       "    </tr>\n",
       "  </thead>\n",
       "  <tbody>\n",
       "    <tr>\n",
       "      <th>0</th>\n",
       "      <td>user_919</td>\n",
       "      <td>2019-01-01 14:06:51</td>\n",
       "      <td>NaN</td>\n",
       "      <td>NaN</td>\n",
       "    </tr>\n",
       "    <tr>\n",
       "      <th>1</th>\n",
       "      <td>user_973</td>\n",
       "      <td>2019-01-01 14:51:16</td>\n",
       "      <td>NaN</td>\n",
       "      <td>NaN</td>\n",
       "    </tr>\n",
       "    <tr>\n",
       "      <th>2</th>\n",
       "      <td>user_903</td>\n",
       "      <td>2019-01-01 16:31:16</td>\n",
       "      <td>NaN</td>\n",
       "      <td>NaN</td>\n",
       "    </tr>\n",
       "    <tr>\n",
       "      <th>3</th>\n",
       "      <td>user_954</td>\n",
       "      <td>2019-01-01 17:17:51</td>\n",
       "      <td>NaN</td>\n",
       "      <td>NaN</td>\n",
       "    </tr>\n",
       "    <tr>\n",
       "      <th>4</th>\n",
       "      <td>user_954</td>\n",
       "      <td>2019-01-01 21:31:18</td>\n",
       "      <td>NaN</td>\n",
       "      <td>NaN</td>\n",
       "    </tr>\n",
       "  </tbody>\n",
       "</table>\n",
       "</div>"
      ],
      "text/plain": [
       "    user_id                 time  bet  win\n",
       "0  user_919  2019-01-01 14:06:51  NaN  NaN\n",
       "1  user_973  2019-01-01 14:51:16  NaN  NaN\n",
       "2  user_903  2019-01-01 16:31:16  NaN  NaN\n",
       "3  user_954  2019-01-01 17:17:51  NaN  NaN\n",
       "4  user_954  2019-01-01 21:31:18  NaN  NaN"
      ]
     },
     "execution_count": 129,
     "metadata": {},
     "output_type": "execute_result"
    }
   ],
   "source": [
    "log.head()"
   ]
  },
  {
   "cell_type": "code",
   "execution_count": 130,
   "metadata": {},
   "outputs": [
    {
     "data": {
      "text/html": [
       "<div>\n",
       "<style scoped>\n",
       "    .dataframe tbody tr th:only-of-type {\n",
       "        vertical-align: middle;\n",
       "    }\n",
       "\n",
       "    .dataframe tbody tr th {\n",
       "        vertical-align: top;\n",
       "    }\n",
       "\n",
       "    .dataframe thead th {\n",
       "        text-align: right;\n",
       "    }\n",
       "</style>\n",
       "<table border=\"1\" class=\"dataframe\">\n",
       "  <thead>\n",
       "    <tr style=\"text-align: right;\">\n",
       "      <th></th>\n",
       "      <th>user_id</th>\n",
       "      <th>email</th>\n",
       "      <th>geo</th>\n",
       "    </tr>\n",
       "  </thead>\n",
       "  <tbody>\n",
       "    <tr>\n",
       "      <th>0</th>\n",
       "      <td>Юзверь</td>\n",
       "      <td>мейл</td>\n",
       "      <td>Гео</td>\n",
       "    </tr>\n",
       "    <tr>\n",
       "      <th>1</th>\n",
       "      <td>User_943</td>\n",
       "      <td>Accumanst@gmail.com</td>\n",
       "      <td>Ижевск</td>\n",
       "    </tr>\n",
       "    <tr>\n",
       "      <th>2</th>\n",
       "      <td>User_908</td>\n",
       "      <td>Advismowr@mail.ru</td>\n",
       "      <td>Ижевск</td>\n",
       "    </tr>\n",
       "    <tr>\n",
       "      <th>3</th>\n",
       "      <td>User_962</td>\n",
       "      <td>Anachso@ukr.net</td>\n",
       "      <td>Краснодар</td>\n",
       "    </tr>\n",
       "    <tr>\n",
       "      <th>4</th>\n",
       "      <td>User_973</td>\n",
       "      <td>Antecia@inbox.ru</td>\n",
       "      <td>Пермь</td>\n",
       "    </tr>\n",
       "  </tbody>\n",
       "</table>\n",
       "</div>"
      ],
      "text/plain": [
       "    user_id                email        geo\n",
       "0    Юзверь                 мейл        Гео\n",
       "1  User_943  Accumanst@gmail.com     Ижевск\n",
       "2  User_908    Advismowr@mail.ru     Ижевск\n",
       "3  User_962      Anachso@ukr.net  Краснодар\n",
       "4  User_973     Antecia@inbox.ru      Пермь"
      ]
     },
     "execution_count": 130,
     "metadata": {},
     "output_type": "execute_result"
    }
   ],
   "source": [
    "user.head()"
   ]
  },
  {
   "cell_type": "code",
   "execution_count": 131,
   "metadata": {},
   "outputs": [
    {
     "data": {
      "text/plain": [
       "15"
      ]
     },
     "execution_count": 131,
     "metadata": {},
     "output_type": "execute_result"
    }
   ],
   "source": [
    "def isna(col):\n",
    "    c=0\n",
    "    for i in log[col].isna():\n",
    "        if i==True:\n",
    "            c+=1\n",
    "    return c\n",
    "isna('time')"
   ]
  },
  {
   "cell_type": "code",
   "execution_count": 132,
   "metadata": {},
   "outputs": [
    {
     "data": {
      "text/html": [
       "<div>\n",
       "<style scoped>\n",
       "    .dataframe tbody tr th:only-of-type {\n",
       "        vertical-align: middle;\n",
       "    }\n",
       "\n",
       "    .dataframe tbody tr th {\n",
       "        vertical-align: top;\n",
       "    }\n",
       "\n",
       "    .dataframe thead th {\n",
       "        text-align: right;\n",
       "    }\n",
       "</style>\n",
       "<table border=\"1\" class=\"dataframe\">\n",
       "  <thead>\n",
       "    <tr style=\"text-align: right;\">\n",
       "      <th></th>\n",
       "      <th>user_id</th>\n",
       "      <th>time</th>\n",
       "      <th>bet</th>\n",
       "      <th>win</th>\n",
       "    </tr>\n",
       "  </thead>\n",
       "  <tbody>\n",
       "    <tr>\n",
       "      <th>14</th>\n",
       "      <td>user_917</td>\n",
       "      <td>2019-01-02 8:57:36</td>\n",
       "      <td>145732.0</td>\n",
       "      <td>1987653.0</td>\n",
       "    </tr>\n",
       "    <tr>\n",
       "      <th>29</th>\n",
       "      <td>user_942</td>\n",
       "      <td>2019-01-04 13:59:42</td>\n",
       "      <td>1678321.0</td>\n",
       "      <td>9876543.0</td>\n",
       "    </tr>\n",
       "    <tr>\n",
       "      <th>151</th>\n",
       "      <td>user_982</td>\n",
       "      <td>2019-01-16 21:54:22</td>\n",
       "      <td>100.0</td>\n",
       "      <td>4749.0</td>\n",
       "    </tr>\n",
       "    <tr>\n",
       "      <th>189</th>\n",
       "      <td>user_964</td>\n",
       "      <td>2019-01-21 18:34:44</td>\n",
       "      <td>200.0</td>\n",
       "      <td>4667.0</td>\n",
       "    </tr>\n",
       "    <tr>\n",
       "      <th>205</th>\n",
       "      <td>user_931</td>\n",
       "      <td>2019-01-22 5:26:59</td>\n",
       "      <td>300.0</td>\n",
       "      <td>4319.0</td>\n",
       "    </tr>\n",
       "    <tr>\n",
       "      <th>...</th>\n",
       "      <td>...</td>\n",
       "      <td>...</td>\n",
       "      <td>...</td>\n",
       "      <td>...</td>\n",
       "    </tr>\n",
       "    <tr>\n",
       "      <th>967</th>\n",
       "      <td>user_975</td>\n",
       "      <td>2019-04-19 22:25:15</td>\n",
       "      <td>1000.0</td>\n",
       "      <td>6108.0</td>\n",
       "    </tr>\n",
       "    <tr>\n",
       "      <th>971</th>\n",
       "      <td>user_912</td>\n",
       "      <td>2019-04-20 10:35:49</td>\n",
       "      <td>10554.0</td>\n",
       "      <td>31799.0</td>\n",
       "    </tr>\n",
       "    <tr>\n",
       "      <th>972</th>\n",
       "      <td>user_926</td>\n",
       "      <td>2019-04-20 10:35:50</td>\n",
       "      <td>10354.0</td>\n",
       "      <td>30244.0</td>\n",
       "    </tr>\n",
       "    <tr>\n",
       "      <th>976</th>\n",
       "      <td>user_970</td>\n",
       "      <td>2019-04-20 10:35:54</td>\n",
       "      <td>10354.0</td>\n",
       "      <td>30691.0</td>\n",
       "    </tr>\n",
       "    <tr>\n",
       "      <th>991</th>\n",
       "      <td>user_965</td>\n",
       "      <td>2019-04-20 12:55:41</td>\n",
       "      <td>800.0</td>\n",
       "      <td>6927.0</td>\n",
       "    </tr>\n",
       "  </tbody>\n",
       "</table>\n",
       "<p>133 rows × 4 columns</p>\n",
       "</div>"
      ],
      "text/plain": [
       "      user_id                 time        bet        win\n",
       "14   user_917   2019-01-02 8:57:36   145732.0  1987653.0\n",
       "29   user_942  2019-01-04 13:59:42  1678321.0  9876543.0\n",
       "151  user_982  2019-01-16 21:54:22      100.0     4749.0\n",
       "189  user_964  2019-01-21 18:34:44      200.0     4667.0\n",
       "205  user_931   2019-01-22 5:26:59      300.0     4319.0\n",
       "..        ...                  ...        ...        ...\n",
       "967  user_975  2019-04-19 22:25:15     1000.0     6108.0\n",
       "971  user_912  2019-04-20 10:35:49    10554.0    31799.0\n",
       "972  user_926  2019-04-20 10:35:50    10354.0    30244.0\n",
       "976  user_970  2019-04-20 10:35:54    10354.0    30691.0\n",
       "991  user_965  2019-04-20 12:55:41      800.0     6927.0\n",
       "\n",
       "[133 rows x 4 columns]"
      ]
     },
     "execution_count": 132,
     "metadata": {},
     "output_type": "execute_result"
    }
   ],
   "source": [
    "log.dropna(axis=0)"
   ]
  },
  {
   "cell_type": "code",
   "execution_count": 133,
   "metadata": {},
   "outputs": [
    {
     "data": {
      "text/plain": [
       "15"
      ]
     },
     "execution_count": 133,
     "metadata": {},
     "output_type": "execute_result"
    }
   ],
   "source": [
    "isna('time')"
   ]
  },
  {
   "cell_type": "code",
   "execution_count": 134,
   "metadata": {},
   "outputs": [
    {
     "data": {
      "text/html": [
       "<div>\n",
       "<style scoped>\n",
       "    .dataframe tbody tr th:only-of-type {\n",
       "        vertical-align: middle;\n",
       "    }\n",
       "\n",
       "    .dataframe tbody tr th {\n",
       "        vertical-align: top;\n",
       "    }\n",
       "\n",
       "    .dataframe thead th {\n",
       "        text-align: right;\n",
       "    }\n",
       "</style>\n",
       "<table border=\"1\" class=\"dataframe\">\n",
       "  <thead>\n",
       "    <tr style=\"text-align: right;\">\n",
       "      <th></th>\n",
       "      <th>user_id</th>\n",
       "      <th>time</th>\n",
       "      <th>bet</th>\n",
       "      <th>win</th>\n",
       "    </tr>\n",
       "  </thead>\n",
       "  <tbody>\n",
       "    <tr>\n",
       "      <th>0</th>\n",
       "      <td>user_919</td>\n",
       "      <td>2019-01-01 14:06:51</td>\n",
       "      <td>NaN</td>\n",
       "      <td>NaN</td>\n",
       "    </tr>\n",
       "    <tr>\n",
       "      <th>1</th>\n",
       "      <td>user_973</td>\n",
       "      <td>2019-01-01 14:51:16</td>\n",
       "      <td>NaN</td>\n",
       "      <td>NaN</td>\n",
       "    </tr>\n",
       "    <tr>\n",
       "      <th>2</th>\n",
       "      <td>user_903</td>\n",
       "      <td>2019-01-01 16:31:16</td>\n",
       "      <td>NaN</td>\n",
       "      <td>NaN</td>\n",
       "    </tr>\n",
       "    <tr>\n",
       "      <th>3</th>\n",
       "      <td>user_954</td>\n",
       "      <td>2019-01-01 17:17:51</td>\n",
       "      <td>NaN</td>\n",
       "      <td>NaN</td>\n",
       "    </tr>\n",
       "    <tr>\n",
       "      <th>4</th>\n",
       "      <td>user_954</td>\n",
       "      <td>2019-01-01 21:31:18</td>\n",
       "      <td>NaN</td>\n",
       "      <td>NaN</td>\n",
       "    </tr>\n",
       "    <tr>\n",
       "      <th>...</th>\n",
       "      <td>...</td>\n",
       "      <td>...</td>\n",
       "      <td>...</td>\n",
       "      <td>...</td>\n",
       "    </tr>\n",
       "    <tr>\n",
       "      <th>991</th>\n",
       "      <td>user_965</td>\n",
       "      <td>2019-04-20 12:55:41</td>\n",
       "      <td>800.0</td>\n",
       "      <td>6927.0</td>\n",
       "    </tr>\n",
       "    <tr>\n",
       "      <th>992</th>\n",
       "      <td>user_967</td>\n",
       "      <td>2019-04-20 14:59:36</td>\n",
       "      <td>10154.0</td>\n",
       "      <td>NaN</td>\n",
       "    </tr>\n",
       "    <tr>\n",
       "      <th>993</th>\n",
       "      <td>user_973</td>\n",
       "      <td>2019-04-20 17:09:56</td>\n",
       "      <td>10254.0</td>\n",
       "      <td>NaN</td>\n",
       "    </tr>\n",
       "    <tr>\n",
       "      <th>994</th>\n",
       "      <td>user_977</td>\n",
       "      <td>2019-04-20 18:10:07</td>\n",
       "      <td>10354.0</td>\n",
       "      <td>NaN</td>\n",
       "    </tr>\n",
       "    <tr>\n",
       "      <th>995</th>\n",
       "      <td>user_984</td>\n",
       "      <td>2019-04-20 9:59:58</td>\n",
       "      <td>9754.0</td>\n",
       "      <td>NaN</td>\n",
       "    </tr>\n",
       "  </tbody>\n",
       "</table>\n",
       "<p>986 rows × 4 columns</p>\n",
       "</div>"
      ],
      "text/plain": [
       "      user_id                 time      bet     win\n",
       "0    user_919  2019-01-01 14:06:51      NaN     NaN\n",
       "1    user_973  2019-01-01 14:51:16      NaN     NaN\n",
       "2    user_903  2019-01-01 16:31:16      NaN     NaN\n",
       "3    user_954  2019-01-01 17:17:51      NaN     NaN\n",
       "4    user_954  2019-01-01 21:31:18      NaN     NaN\n",
       "..        ...                  ...      ...     ...\n",
       "991  user_965  2019-04-20 12:55:41    800.0  6927.0\n",
       "992  user_967  2019-04-20 14:59:36  10154.0     NaN\n",
       "993  user_973  2019-04-20 17:09:56  10254.0     NaN\n",
       "994  user_977  2019-04-20 18:10:07  10354.0     NaN\n",
       "995  user_984   2019-04-20 9:59:58   9754.0     NaN\n",
       "\n",
       "[986 rows x 4 columns]"
      ]
     },
     "execution_count": 134,
     "metadata": {},
     "output_type": "execute_result"
    }
   ],
   "source": [
    "log.drop_duplicates(subset=['time', 'user_id'])"
   ]
  },
  {
   "cell_type": "code",
   "execution_count": 135,
   "metadata": {},
   "outputs": [],
   "source": [
    "def time_normalize(row):\n",
    "#     date_format=\n",
    "    for i in row:\n",
    "        date_format = datetime.strptime(i, '%Y-%m-%d')\n",
    "        i = date_format\n"
   ]
  },
  {
   "cell_type": "code",
   "execution_count": 136,
   "metadata": {},
   "outputs": [],
   "source": [
    "log.time = pd.to_datetime(log.time, format='%Y-%m-%d %H:%M:%S')"
   ]
  },
  {
   "cell_type": "code",
   "execution_count": 137,
   "metadata": {},
   "outputs": [
    {
     "data": {
      "text/html": [
       "<div>\n",
       "<style scoped>\n",
       "    .dataframe tbody tr th:only-of-type {\n",
       "        vertical-align: middle;\n",
       "    }\n",
       "\n",
       "    .dataframe tbody tr th {\n",
       "        vertical-align: top;\n",
       "    }\n",
       "\n",
       "    .dataframe thead th {\n",
       "        text-align: right;\n",
       "    }\n",
       "</style>\n",
       "<table border=\"1\" class=\"dataframe\">\n",
       "  <thead>\n",
       "    <tr style=\"text-align: right;\">\n",
       "      <th></th>\n",
       "      <th>user_id</th>\n",
       "      <th>time</th>\n",
       "      <th>bet</th>\n",
       "      <th>win</th>\n",
       "    </tr>\n",
       "  </thead>\n",
       "  <tbody>\n",
       "    <tr>\n",
       "      <th>0</th>\n",
       "      <td>user_919</td>\n",
       "      <td>2019-01-01 14:06:51</td>\n",
       "      <td>NaN</td>\n",
       "      <td>NaN</td>\n",
       "    </tr>\n",
       "    <tr>\n",
       "      <th>1</th>\n",
       "      <td>user_973</td>\n",
       "      <td>2019-01-01 14:51:16</td>\n",
       "      <td>NaN</td>\n",
       "      <td>NaN</td>\n",
       "    </tr>\n",
       "    <tr>\n",
       "      <th>2</th>\n",
       "      <td>user_903</td>\n",
       "      <td>2019-01-01 16:31:16</td>\n",
       "      <td>NaN</td>\n",
       "      <td>NaN</td>\n",
       "    </tr>\n",
       "    <tr>\n",
       "      <th>3</th>\n",
       "      <td>user_954</td>\n",
       "      <td>2019-01-01 17:17:51</td>\n",
       "      <td>NaN</td>\n",
       "      <td>NaN</td>\n",
       "    </tr>\n",
       "    <tr>\n",
       "      <th>4</th>\n",
       "      <td>user_954</td>\n",
       "      <td>2019-01-01 21:31:18</td>\n",
       "      <td>NaN</td>\n",
       "      <td>NaN</td>\n",
       "    </tr>\n",
       "    <tr>\n",
       "      <th>...</th>\n",
       "      <td>...</td>\n",
       "      <td>...</td>\n",
       "      <td>...</td>\n",
       "      <td>...</td>\n",
       "    </tr>\n",
       "    <tr>\n",
       "      <th>995</th>\n",
       "      <td>user_984</td>\n",
       "      <td>2019-04-20 09:59:58</td>\n",
       "      <td>9754.0</td>\n",
       "      <td>NaN</td>\n",
       "    </tr>\n",
       "    <tr>\n",
       "      <th>996</th>\n",
       "      <td></td>\n",
       "      <td>NaT</td>\n",
       "      <td>10054.0</td>\n",
       "      <td>29265.0</td>\n",
       "    </tr>\n",
       "    <tr>\n",
       "      <th>997</th>\n",
       "      <td></td>\n",
       "      <td>NaT</td>\n",
       "      <td>10454.0</td>\n",
       "      <td>NaN</td>\n",
       "    </tr>\n",
       "    <tr>\n",
       "      <th>998</th>\n",
       "      <td></td>\n",
       "      <td>NaT</td>\n",
       "      <td>1000.0</td>\n",
       "      <td>NaN</td>\n",
       "    </tr>\n",
       "    <tr>\n",
       "      <th>999</th>\n",
       "      <td></td>\n",
       "      <td>NaT</td>\n",
       "      <td>10754.0</td>\n",
       "      <td>NaN</td>\n",
       "    </tr>\n",
       "  </tbody>\n",
       "</table>\n",
       "<p>1000 rows × 4 columns</p>\n",
       "</div>"
      ],
      "text/plain": [
       "      user_id                time      bet      win\n",
       "0    user_919 2019-01-01 14:06:51      NaN      NaN\n",
       "1    user_973 2019-01-01 14:51:16      NaN      NaN\n",
       "2    user_903 2019-01-01 16:31:16      NaN      NaN\n",
       "3    user_954 2019-01-01 17:17:51      NaN      NaN\n",
       "4    user_954 2019-01-01 21:31:18      NaN      NaN\n",
       "..        ...                 ...      ...      ...\n",
       "995  user_984 2019-04-20 09:59:58   9754.0      NaN\n",
       "996                           NaT  10054.0  29265.0\n",
       "997                           NaT  10454.0      NaN\n",
       "998                           NaT   1000.0      NaN\n",
       "999                           NaT  10754.0      NaN\n",
       "\n",
       "[1000 rows x 4 columns]"
      ]
     },
     "execution_count": 137,
     "metadata": {},
     "output_type": "execute_result"
    }
   ],
   "source": [
    "log\n"
   ]
  },
  {
   "cell_type": "code",
   "execution_count": 138,
   "metadata": {},
   "outputs": [],
   "source": [
    "# log = log.dropna()  \n",
    "# log.columns = ['user_id', 'time', 'bet', 'win']  \n",
    "# # log['time'] = log['time'].apply(lambda x: x[1:])  \n",
    "# log['time'] = pd.to_datetime(log['time'], format='%Y-%m-%d %H:%M:%S')  \n",
    "# log['time'] = log['time'].apply(lambda x: x.minute)  \n",
    "# log['time'].head() "
   ]
  },
  {
   "cell_type": "code",
   "execution_count": null,
   "metadata": {},
   "outputs": [],
   "source": []
  },
  {
   "cell_type": "code",
   "execution_count": 139,
   "metadata": {},
   "outputs": [],
   "source": [
    "year_column = log.time.apply(lambda x: x.year)"
   ]
  },
  {
   "cell_type": "code",
   "execution_count": 140,
   "metadata": {},
   "outputs": [],
   "source": [
    "year_column = log.time.dt.year\n",
    "# year_column"
   ]
  },
  {
   "cell_type": "markdown",
   "metadata": {},
   "source": [
    "Аксессор - это атрибут столбца, который хранит переменные типа Timestamp, то есть переменные, которые были строковым представлением времени, а затем изменены с помощью pd.to_datetime(). Если вы попытаетесь обратиться к dt у столбца, в котором лежит что-то отличное от времени, вы получите ошибку."
   ]
  },
  {
   "cell_type": "code",
   "execution_count": 141,
   "metadata": {},
   "outputs": [
    {
     "data": {
      "text/plain": [
       "36.0    25\n",
       "31.0    23\n",
       "6.0     22\n",
       "50.0    22\n",
       "14.0    21\n",
       "Name: time, dtype: int64"
      ]
     },
     "execution_count": 141,
     "metadata": {},
     "output_type": "execute_result"
    }
   ],
   "source": [
    "min_col = log.time.dt.minute\n",
    "min_col.value_counts().head()"
   ]
  },
  {
   "cell_type": "code",
   "execution_count": 142,
   "metadata": {},
   "outputs": [
    {
     "data": {
      "text/plain": [
       "4.0    170\n",
       "2.0    259\n",
       "3.0    264\n",
       "1.0    292\n",
       "Name: time, dtype: int64"
      ]
     },
     "execution_count": 142,
     "metadata": {},
     "output_type": "execute_result"
    }
   ],
   "source": [
    "month_col = log.time.dt.month\n",
    "month_col.value_counts(ascending=True).head()"
   ]
  },
  {
   "cell_type": "code",
   "execution_count": 143,
   "metadata": {},
   "outputs": [
    {
     "data": {
      "text/plain": [
       "5.0    152\n",
       "2.0    150\n",
       "1.0    150\n",
       "0.0    135\n",
       "4.0    135\n",
       "3.0    132\n",
       "6.0    131\n",
       "Name: time, dtype: int64"
      ]
     },
     "execution_count": 143,
     "metadata": {},
     "output_type": "execute_result"
    }
   ],
   "source": [
    "day_col = log.time.dt.dayofweek\n",
    "day_col\n",
    "count = day_col.value_counts()\n",
    "count "
   ]
  },
  {
   "cell_type": "code",
   "execution_count": 144,
   "metadata": {},
   "outputs": [],
   "source": [
    "def time_to_day(t):\n",
    "    if (t.hour >= 0 and t.hour <= 5):\n",
    "        return 'Night'\n",
    "    if (t.hour >= 6 and t.hour <= 11):\n",
    "        return 'Morning'\n",
    "    if (t.hour >= 12 and t.hour <= 17):\n",
    "        return 'Day'\n",
    "    if (t.hour >= 18 and t.hour <= 23):\n",
    "        return 'Evening'\n",
    "    \n",
    "log['day_time'] = log.time.apply(time_to_day)"
   ]
  },
  {
   "cell_type": "code",
   "execution_count": 145,
   "metadata": {},
   "outputs": [
    {
     "data": {
      "text/plain": [
       "Evening    227\n",
       "Day        240\n",
       "Morning    253\n",
       "Night      265\n",
       "Name: day_time, dtype: int64"
      ]
     },
     "execution_count": 145,
     "metadata": {},
     "output_type": "execute_result"
    }
   ],
   "source": [
    "log.day_time.value_counts(ascending=True)"
   ]
  },
  {
   "cell_type": "code",
   "execution_count": 146,
   "metadata": {},
   "outputs": [],
   "source": [
    "log = pd.read_csv('log.csv.xls', encoding='utf-8', header=None)\n",
    "log.columns = ['user_id', 'time', 'bet', 'win']\n",
    "log.user_id = log.user_id.apply(correct_id)\n",
    "log.time = log.time.str.replace('[', '')\n",
    "log.dropna(axis=0)\n",
    "log.time = pd.to_datetime(log.time)\n",
    "log['hour'] = log.time.dt.hour"
   ]
  },
  {
   "cell_type": "code",
   "execution_count": 147,
   "metadata": {},
   "outputs": [
    {
     "data": {
      "text/html": [
       "<div>\n",
       "<style scoped>\n",
       "    .dataframe tbody tr th:only-of-type {\n",
       "        vertical-align: middle;\n",
       "    }\n",
       "\n",
       "    .dataframe tbody tr th {\n",
       "        vertical-align: top;\n",
       "    }\n",
       "\n",
       "    .dataframe thead th {\n",
       "        text-align: right;\n",
       "    }\n",
       "</style>\n",
       "<table border=\"1\" class=\"dataframe\">\n",
       "  <thead>\n",
       "    <tr style=\"text-align: right;\">\n",
       "      <th></th>\n",
       "      <th>user_id</th>\n",
       "      <th>time</th>\n",
       "      <th>bet</th>\n",
       "      <th>win</th>\n",
       "      <th>hour</th>\n",
       "    </tr>\n",
       "  </thead>\n",
       "  <tbody>\n",
       "    <tr>\n",
       "      <th>0</th>\n",
       "      <td>user_919</td>\n",
       "      <td>2019-01-01 14:06:51</td>\n",
       "      <td>NaN</td>\n",
       "      <td>NaN</td>\n",
       "      <td>14.0</td>\n",
       "    </tr>\n",
       "    <tr>\n",
       "      <th>1</th>\n",
       "      <td>user_973</td>\n",
       "      <td>2019-01-01 14:51:16</td>\n",
       "      <td>NaN</td>\n",
       "      <td>NaN</td>\n",
       "      <td>14.0</td>\n",
       "    </tr>\n",
       "    <tr>\n",
       "      <th>2</th>\n",
       "      <td>user_903</td>\n",
       "      <td>2019-01-01 16:31:16</td>\n",
       "      <td>NaN</td>\n",
       "      <td>NaN</td>\n",
       "      <td>16.0</td>\n",
       "    </tr>\n",
       "    <tr>\n",
       "      <th>3</th>\n",
       "      <td>user_954</td>\n",
       "      <td>2019-01-01 17:17:51</td>\n",
       "      <td>NaN</td>\n",
       "      <td>NaN</td>\n",
       "      <td>17.0</td>\n",
       "    </tr>\n",
       "    <tr>\n",
       "      <th>4</th>\n",
       "      <td>user_954</td>\n",
       "      <td>2019-01-01 21:31:18</td>\n",
       "      <td>NaN</td>\n",
       "      <td>NaN</td>\n",
       "      <td>21.0</td>\n",
       "    </tr>\n",
       "    <tr>\n",
       "      <th>...</th>\n",
       "      <td>...</td>\n",
       "      <td>...</td>\n",
       "      <td>...</td>\n",
       "      <td>...</td>\n",
       "      <td>...</td>\n",
       "    </tr>\n",
       "    <tr>\n",
       "      <th>995</th>\n",
       "      <td>user_984</td>\n",
       "      <td>2019-04-20 09:59:58</td>\n",
       "      <td>9754.0</td>\n",
       "      <td>NaN</td>\n",
       "      <td>9.0</td>\n",
       "    </tr>\n",
       "    <tr>\n",
       "      <th>996</th>\n",
       "      <td></td>\n",
       "      <td>NaT</td>\n",
       "      <td>10054.0</td>\n",
       "      <td>29265.0</td>\n",
       "      <td>NaN</td>\n",
       "    </tr>\n",
       "    <tr>\n",
       "      <th>997</th>\n",
       "      <td></td>\n",
       "      <td>NaT</td>\n",
       "      <td>10454.0</td>\n",
       "      <td>NaN</td>\n",
       "      <td>NaN</td>\n",
       "    </tr>\n",
       "    <tr>\n",
       "      <th>998</th>\n",
       "      <td></td>\n",
       "      <td>NaT</td>\n",
       "      <td>1000.0</td>\n",
       "      <td>NaN</td>\n",
       "      <td>NaN</td>\n",
       "    </tr>\n",
       "    <tr>\n",
       "      <th>999</th>\n",
       "      <td></td>\n",
       "      <td>NaT</td>\n",
       "      <td>10754.0</td>\n",
       "      <td>NaN</td>\n",
       "      <td>NaN</td>\n",
       "    </tr>\n",
       "  </tbody>\n",
       "</table>\n",
       "<p>1000 rows × 5 columns</p>\n",
       "</div>"
      ],
      "text/plain": [
       "      user_id                time      bet      win  hour\n",
       "0    user_919 2019-01-01 14:06:51      NaN      NaN  14.0\n",
       "1    user_973 2019-01-01 14:51:16      NaN      NaN  14.0\n",
       "2    user_903 2019-01-01 16:31:16      NaN      NaN  16.0\n",
       "3    user_954 2019-01-01 17:17:51      NaN      NaN  17.0\n",
       "4    user_954 2019-01-01 21:31:18      NaN      NaN  21.0\n",
       "..        ...                 ...      ...      ...   ...\n",
       "995  user_984 2019-04-20 09:59:58   9754.0      NaN   9.0\n",
       "996                           NaT  10054.0  29265.0   NaN\n",
       "997                           NaT  10454.0      NaN   NaN\n",
       "998                           NaT   1000.0      NaN   NaN\n",
       "999                           NaT  10754.0      NaN   NaN\n",
       "\n",
       "[1000 rows x 5 columns]"
      ]
     },
     "execution_count": 147,
     "metadata": {},
     "output_type": "execute_result"
    }
   ],
   "source": [
    "log"
   ]
  },
  {
   "cell_type": "code",
   "execution_count": 148,
   "metadata": {},
   "outputs": [
    {
     "data": {
      "text/plain": [
       "0.0      515\n",
       "500.0     50\n",
       "100.0     48\n",
       "300.0     42\n",
       "800.0     42\n",
       "Name: bet, dtype: int64"
      ]
     },
     "execution_count": 148,
     "metadata": {},
     "output_type": "execute_result"
    }
   ],
   "source": [
    "log.bet = log['bet'].fillna(0)\n",
    "log.bet.value_counts().head()"
   ]
  },
  {
   "cell_type": "code",
   "execution_count": 149,
   "metadata": {},
   "outputs": [],
   "source": [
    "def fillna_win(row):\n",
    "    if (row.loc['bet'] > 0 and pd.isnull(row.loc['win'])): \n",
    "        row.loc['win'] = -row.loc['bet']\n",
    "    if (row.loc['bet'] == 0 and pd.isnull(row.loc['win'])):\n",
    "        row.loc['win'] = 0\n",
    "    return row\n",
    "    \n",
    "new_win = log.apply(lambda row: fillna_win(row), axis=1)"
   ]
  },
  {
   "cell_type": "code",
   "execution_count": 150,
   "metadata": {},
   "outputs": [],
   "source": [
    "log = new_win"
   ]
  },
  {
   "cell_type": "code",
   "execution_count": 151,
   "metadata": {},
   "outputs": [],
   "source": [
    "def fill_net(row):\n",
    "    if row.loc['win'] < 0:\n",
    "        row.loc['net'] = row.loc['win']\n",
    "    else:\n",
    "        row.loc['net'] = row.loc['win']-row.loc['bet']\n",
    "    return row.loc['net']\n",
    "\n",
    "\n",
    "log['net'] = 0\n",
    "log.net = log.apply(lambda row: fill_net(row), axis=1)\n"
   ]
  },
  {
   "cell_type": "code",
   "execution_count": 152,
   "metadata": {},
   "outputs": [
    {
     "data": {
      "text/plain": [
       "5347.0"
      ]
     },
     "execution_count": 152,
     "metadata": {},
     "output_type": "execute_result"
    }
   ],
   "source": [
    "log[log.net>0].net.median()\n",
    "# log = pd.read_csv('log.csv.xls', encoding='utf-8', header=None)"
   ]
  },
  {
   "cell_type": "code",
   "execution_count": 153,
   "metadata": {},
   "outputs": [
    {
     "data": {
      "text/plain": [
       "0.485"
      ]
     },
     "execution_count": 153,
     "metadata": {},
     "output_type": "execute_result"
    }
   ],
   "source": [
    "len(log[log.bet>0])/len(log)"
   ]
  },
  {
   "cell_type": "code",
   "execution_count": 154,
   "metadata": {},
   "outputs": [
    {
     "data": {
      "text/plain": [
       "-3372.743515850144"
      ]
     },
     "execution_count": 154,
     "metadata": {},
     "output_type": "execute_result"
    }
   ],
   "source": [
    "log[log.win<0].net.mean()"
   ]
  },
  {
   "cell_type": "code",
   "execution_count": 155,
   "metadata": {},
   "outputs": [
    {
     "data": {
      "text/plain": [
       "0.138"
      ]
     },
     "execution_count": 155,
     "metadata": {},
     "output_type": "execute_result"
    }
   ],
   "source": [
    "len(log[(log.bet>0)&(log.win>0)])/len(log)"
   ]
  },
  {
   "cell_type": "code",
   "execution_count": 156,
   "metadata": {},
   "outputs": [
    {
     "data": {
      "text/plain": [
       "user_id    48\n",
       "time       48\n",
       "bet        48\n",
       "win        48\n",
       "hour       48\n",
       "net        48\n",
       "dtype: int64"
      ]
     },
     "execution_count": 156,
     "metadata": {},
     "output_type": "execute_result"
    }
   ],
   "source": [
    "log[log.bet == 100].count()"
   ]
  },
  {
   "cell_type": "code",
   "execution_count": 157,
   "metadata": {},
   "outputs": [
    {
     "data": {
      "text/plain": [
       "100.0"
      ]
     },
     "execution_count": 157,
     "metadata": {},
     "output_type": "execute_result"
    }
   ],
   "source": [
    "log[log.bet>0].bet.min()"
   ]
  },
  {
   "cell_type": "code",
   "execution_count": 158,
   "metadata": {},
   "outputs": [],
   "source": [
    "user.user_id = user.user_id.apply(lambda x: x.lower())"
   ]
  },
  {
   "cell_type": "code",
   "execution_count": 159,
   "metadata": {},
   "outputs": [],
   "source": [
    "log = log[log.user_id != '#error']\n",
    "user  = user.apply(lambda x: x[1:])"
   ]
  },
  {
   "cell_type": "code",
   "execution_count": 161,
   "metadata": {},
   "outputs": [
    {
     "data": {
      "text/html": [
       "<div>\n",
       "<style scoped>\n",
       "    .dataframe tbody tr th:only-of-type {\n",
       "        vertical-align: middle;\n",
       "    }\n",
       "\n",
       "    .dataframe tbody tr th {\n",
       "        vertical-align: top;\n",
       "    }\n",
       "\n",
       "    .dataframe thead th {\n",
       "        text-align: right;\n",
       "    }\n",
       "</style>\n",
       "<table border=\"1\" class=\"dataframe\">\n",
       "  <thead>\n",
       "    <tr style=\"text-align: right;\">\n",
       "      <th></th>\n",
       "      <th>user_id</th>\n",
       "      <th>email</th>\n",
       "      <th>geo</th>\n",
       "    </tr>\n",
       "  </thead>\n",
       "  <tbody>\n",
       "    <tr>\n",
       "      <th>1</th>\n",
       "      <td>user_943</td>\n",
       "      <td>Accumanst@gmail.com</td>\n",
       "      <td>Ижевск</td>\n",
       "    </tr>\n",
       "    <tr>\n",
       "      <th>2</th>\n",
       "      <td>user_908</td>\n",
       "      <td>Advismowr@mail.ru</td>\n",
       "      <td>Ижевск</td>\n",
       "    </tr>\n",
       "    <tr>\n",
       "      <th>3</th>\n",
       "      <td>user_962</td>\n",
       "      <td>Anachso@ukr.net</td>\n",
       "      <td>Краснодар</td>\n",
       "    </tr>\n",
       "    <tr>\n",
       "      <th>4</th>\n",
       "      <td>user_973</td>\n",
       "      <td>Antecia@inbox.ru</td>\n",
       "      <td>Пермь</td>\n",
       "    </tr>\n",
       "    <tr>\n",
       "      <th>5</th>\n",
       "      <td>user_902</td>\n",
       "      <td>Balliaryva@ukr.net</td>\n",
       "      <td>NaN</td>\n",
       "    </tr>\n",
       "    <tr>\n",
       "      <th>...</th>\n",
       "      <td>...</td>\n",
       "      <td>...</td>\n",
       "      <td>...</td>\n",
       "    </tr>\n",
       "    <tr>\n",
       "      <th>96</th>\n",
       "      <td>user_959</td>\n",
       "      <td>UpdatesCurious@yahoo.com</td>\n",
       "      <td>Тюмень</td>\n",
       "    </tr>\n",
       "    <tr>\n",
       "      <th>97</th>\n",
       "      <td>user_901</td>\n",
       "      <td>V2artierso@mail.ru</td>\n",
       "      <td>Арзангелтск</td>\n",
       "    </tr>\n",
       "    <tr>\n",
       "      <th>98</th>\n",
       "      <td>user_970</td>\n",
       "      <td>Vashoterlo@bk.ru</td>\n",
       "      <td>Воронеж</td>\n",
       "    </tr>\n",
       "    <tr>\n",
       "      <th>99</th>\n",
       "      <td>user_965</td>\n",
       "      <td>Visuareda@yahoo.com</td>\n",
       "      <td>Воронеж</td>\n",
       "    </tr>\n",
       "    <tr>\n",
       "      <th>100</th>\n",
       "      <td>user_921</td>\n",
       "      <td>Aavast@ya.ru</td>\n",
       "      <td>Ижевск</td>\n",
       "    </tr>\n",
       "  </tbody>\n",
       "</table>\n",
       "<p>100 rows × 3 columns</p>\n",
       "</div>"
      ],
      "text/plain": [
       "      user_id                     email          geo\n",
       "1    user_943       Accumanst@gmail.com       Ижевск\n",
       "2    user_908         Advismowr@mail.ru       Ижевск\n",
       "3    user_962           Anachso@ukr.net    Краснодар\n",
       "4    user_973          Antecia@inbox.ru        Пермь\n",
       "5    user_902        Balliaryva@ukr.net          NaN\n",
       "..        ...                       ...          ...\n",
       "96   user_959  UpdatesCurious@yahoo.com       Тюмень\n",
       "97   user_901        V2artierso@mail.ru  Арзангелтск\n",
       "98   user_970          Vashoterlo@bk.ru      Воронеж\n",
       "99   user_965       Visuareda@yahoo.com      Воронеж\n",
       "100  user_921              Aavast@ya.ru       Ижевск\n",
       "\n",
       "[100 rows x 3 columns]"
      ]
     },
     "execution_count": 161,
     "metadata": {},
     "output_type": "execute_result"
    }
   ],
   "source": [
    "user"
   ]
  },
  {
   "cell_type": "code",
   "execution_count": 168,
   "metadata": {},
   "outputs": [
    {
     "data": {
      "text/html": [
       "<div>\n",
       "<style scoped>\n",
       "    .dataframe tbody tr th:only-of-type {\n",
       "        vertical-align: middle;\n",
       "    }\n",
       "\n",
       "    .dataframe tbody tr th {\n",
       "        vertical-align: top;\n",
       "    }\n",
       "\n",
       "    .dataframe thead th {\n",
       "        text-align: right;\n",
       "    }\n",
       "</style>\n",
       "<table border=\"1\" class=\"dataframe\">\n",
       "  <thead>\n",
       "    <tr style=\"text-align: right;\">\n",
       "      <th></th>\n",
       "      <th>user_id</th>\n",
       "      <th>email</th>\n",
       "      <th>geo</th>\n",
       "      <th>time</th>\n",
       "      <th>bet</th>\n",
       "      <th>win</th>\n",
       "      <th>hour</th>\n",
       "      <th>net</th>\n",
       "    </tr>\n",
       "  </thead>\n",
       "  <tbody>\n",
       "    <tr>\n",
       "      <th>0</th>\n",
       "      <td>user_943</td>\n",
       "      <td>Accumanst@gmail.com</td>\n",
       "      <td>Ижевск</td>\n",
       "      <td>2019-01-06 21:06:57</td>\n",
       "      <td>0.0</td>\n",
       "      <td>0.0</td>\n",
       "      <td>21.0</td>\n",
       "      <td>0.0</td>\n",
       "    </tr>\n",
       "    <tr>\n",
       "      <th>1</th>\n",
       "      <td>user_943</td>\n",
       "      <td>Accumanst@gmail.com</td>\n",
       "      <td>Ижевск</td>\n",
       "      <td>2019-01-10 12:16:22</td>\n",
       "      <td>100.0</td>\n",
       "      <td>-100.0</td>\n",
       "      <td>12.0</td>\n",
       "      <td>-100.0</td>\n",
       "    </tr>\n",
       "    <tr>\n",
       "      <th>2</th>\n",
       "      <td>user_943</td>\n",
       "      <td>Accumanst@gmail.com</td>\n",
       "      <td>Ижевск</td>\n",
       "      <td>2019-01-27 01:18:47</td>\n",
       "      <td>100.0</td>\n",
       "      <td>-100.0</td>\n",
       "      <td>1.0</td>\n",
       "      <td>-100.0</td>\n",
       "    </tr>\n",
       "    <tr>\n",
       "      <th>3</th>\n",
       "      <td>user_943</td>\n",
       "      <td>Accumanst@gmail.com</td>\n",
       "      <td>Ижевск</td>\n",
       "      <td>2019-02-10 11:09:24</td>\n",
       "      <td>100.0</td>\n",
       "      <td>5456.0</td>\n",
       "      <td>11.0</td>\n",
       "      <td>5356.0</td>\n",
       "    </tr>\n",
       "    <tr>\n",
       "      <th>4</th>\n",
       "      <td>user_943</td>\n",
       "      <td>Accumanst@gmail.com</td>\n",
       "      <td>Ижевск</td>\n",
       "      <td>2019-02-12 15:09:38</td>\n",
       "      <td>300.0</td>\n",
       "      <td>5245.0</td>\n",
       "      <td>15.0</td>\n",
       "      <td>4945.0</td>\n",
       "    </tr>\n",
       "    <tr>\n",
       "      <th>...</th>\n",
       "      <td>...</td>\n",
       "      <td>...</td>\n",
       "      <td>...</td>\n",
       "      <td>...</td>\n",
       "      <td>...</td>\n",
       "      <td>...</td>\n",
       "      <td>...</td>\n",
       "      <td>...</td>\n",
       "    </tr>\n",
       "    <tr>\n",
       "      <th>970</th>\n",
       "      <td>user_965</td>\n",
       "      <td>Visuareda@yahoo.com</td>\n",
       "      <td>Воронеж</td>\n",
       "      <td>2019-04-20 12:55:41</td>\n",
       "      <td>800.0</td>\n",
       "      <td>6927.0</td>\n",
       "      <td>12.0</td>\n",
       "      <td>6127.0</td>\n",
       "    </tr>\n",
       "    <tr>\n",
       "      <th>971</th>\n",
       "      <td>user_921</td>\n",
       "      <td>Aavast@ya.ru</td>\n",
       "      <td>Ижевск</td>\n",
       "      <td>2019-01-07 01:05:59</td>\n",
       "      <td>0.0</td>\n",
       "      <td>0.0</td>\n",
       "      <td>1.0</td>\n",
       "      <td>0.0</td>\n",
       "    </tr>\n",
       "    <tr>\n",
       "      <th>972</th>\n",
       "      <td>user_921</td>\n",
       "      <td>Aavast@ya.ru</td>\n",
       "      <td>Ижевск</td>\n",
       "      <td>2019-02-05 14:08:57</td>\n",
       "      <td>0.0</td>\n",
       "      <td>0.0</td>\n",
       "      <td>14.0</td>\n",
       "      <td>0.0</td>\n",
       "    </tr>\n",
       "    <tr>\n",
       "      <th>973</th>\n",
       "      <td>user_921</td>\n",
       "      <td>Aavast@ya.ru</td>\n",
       "      <td>Ижевск</td>\n",
       "      <td>2019-02-09 23:20:21</td>\n",
       "      <td>400.0</td>\n",
       "      <td>6067.0</td>\n",
       "      <td>23.0</td>\n",
       "      <td>5667.0</td>\n",
       "    </tr>\n",
       "    <tr>\n",
       "      <th>974</th>\n",
       "      <td>user_921</td>\n",
       "      <td>Aavast@ya.ru</td>\n",
       "      <td>Ижевск</td>\n",
       "      <td>2019-02-10 17:53:37</td>\n",
       "      <td>900.0</td>\n",
       "      <td>-900.0</td>\n",
       "      <td>17.0</td>\n",
       "      <td>-900.0</td>\n",
       "    </tr>\n",
       "  </tbody>\n",
       "</table>\n",
       "<p>975 rows × 8 columns</p>\n",
       "</div>"
      ],
      "text/plain": [
       "      user_id                email      geo                time    bet  \\\n",
       "0    user_943  Accumanst@gmail.com   Ижевск 2019-01-06 21:06:57    0.0   \n",
       "1    user_943  Accumanst@gmail.com   Ижевск 2019-01-10 12:16:22  100.0   \n",
       "2    user_943  Accumanst@gmail.com   Ижевск 2019-01-27 01:18:47  100.0   \n",
       "3    user_943  Accumanst@gmail.com   Ижевск 2019-02-10 11:09:24  100.0   \n",
       "4    user_943  Accumanst@gmail.com   Ижевск 2019-02-12 15:09:38  300.0   \n",
       "..        ...                  ...      ...                 ...    ...   \n",
       "970  user_965  Visuareda@yahoo.com  Воронеж 2019-04-20 12:55:41  800.0   \n",
       "971  user_921         Aavast@ya.ru   Ижевск 2019-01-07 01:05:59    0.0   \n",
       "972  user_921         Aavast@ya.ru   Ижевск 2019-02-05 14:08:57    0.0   \n",
       "973  user_921         Aavast@ya.ru   Ижевск 2019-02-09 23:20:21  400.0   \n",
       "974  user_921         Aavast@ya.ru   Ижевск 2019-02-10 17:53:37  900.0   \n",
       "\n",
       "        win  hour     net  \n",
       "0       0.0  21.0     0.0  \n",
       "1    -100.0  12.0  -100.0  \n",
       "2    -100.0   1.0  -100.0  \n",
       "3    5456.0  11.0  5356.0  \n",
       "4    5245.0  15.0  4945.0  \n",
       "..      ...   ...     ...  \n",
       "970  6927.0  12.0  6127.0  \n",
       "971     0.0   1.0     0.0  \n",
       "972     0.0  14.0     0.0  \n",
       "973  6067.0  23.0  5667.0  \n",
       "974  -900.0  17.0  -900.0  \n",
       "\n",
       "[975 rows x 8 columns]"
      ]
     },
     "execution_count": 168,
     "metadata": {},
     "output_type": "execute_result"
    }
   ],
   "source": [
    "df = pd.merge(user, log, on='user_id')\n",
    "df"
   ]
  },
  {
   "cell_type": "code",
   "execution_count": 171,
   "metadata": {},
   "outputs": [
    {
     "data": {
      "text/plain": [
       "0.0"
      ]
     },
     "execution_count": 171,
     "metadata": {},
     "output_type": "execute_result"
    }
   ],
   "source": [
    "df.groupby('user_id').win.median().median()"
   ]
  },
  {
   "cell_type": "code",
   "execution_count": 172,
   "metadata": {},
   "outputs": [
    {
     "data": {
      "text/plain": [
       "1986.0"
      ]
     },
     "execution_count": 172,
     "metadata": {},
     "output_type": "execute_result"
    }
   ],
   "source": [
    "df.groupby('user_id').net.sum().median()"
   ]
  },
  {
   "cell_type": "code",
   "execution_count": 178,
   "metadata": {},
   "outputs": [
    {
     "data": {
      "text/plain": [
       "user_id\n",
       "user_1000    8\n",
       "user_900     6\n",
       "user_901     6\n",
       "user_902     4\n",
       "user_903     4\n",
       "            ..\n",
       "user_995     4\n",
       "user_996     2\n",
       "user_997     4\n",
       "user_998     3\n",
       "user_999     5\n",
       "Name: bet, Length: 100, dtype: int64"
      ]
     },
     "execution_count": 178,
     "metadata": {},
     "output_type": "execute_result"
    }
   ],
   "source": [
    "(df[df.bet==0].groupby('user_id').bet.count())/"
   ]
  },
  {
   "cell_type": "code",
   "execution_count": 179,
   "metadata": {},
   "outputs": [
    {
     "data": {
      "text/plain": [
       "5.05"
      ]
     },
     "execution_count": 179,
     "metadata": {},
     "output_type": "execute_result"
    }
   ],
   "source": [
    "def get_bet_zero(bet):\n",
    "    if bet.sum() > 0:\n",
    "        a=bet.value_counts()\n",
    "        return a[0]\n",
    "    else:\n",
    "        return 0\n",
    "    \n",
    "    \n",
    "user_data = df.groupby('user_id')\n",
    "bet_data = user_data.bet.apply(get_bet_zero)\n",
    "bet_data.mean()"
   ]
  },
  {
   "cell_type": "code",
   "execution_count": 184,
   "metadata": {},
   "outputs": [
    {
     "data": {
      "text/plain": [
       "user_id\n",
       "user_1000     1600.0\n",
       "user_900      3800.0\n",
       "user_901       600.0\n",
       "user_902      1700.0\n",
       "user_903     13554.0\n",
       "              ...   \n",
       "user_995     12854.0\n",
       "user_996      1000.0\n",
       "user_997      1200.0\n",
       "user_998     15554.0\n",
       "user_999      1600.0\n",
       "Name: bet, Length: 100, dtype: float64"
      ]
     },
     "execution_count": 184,
     "metadata": {},
     "output_type": "execute_result"
    }
   ],
   "source": [
    "df.groupby('user_id').bet.sum()"
   ]
  },
  {
   "cell_type": "code",
   "execution_count": 185,
   "metadata": {},
   "outputs": [],
   "source": [
    "time_min = df[df.bet==0].groupby('user_id').time.min()\n",
    "time_min_not_null = df[df.bet>0].groupby('user_id').time.min()"
   ]
  },
  {
   "cell_type": "code",
   "execution_count": 189,
   "metadata": {},
   "outputs": [],
   "source": [
    "joined = pd.merge(time_min, time_min_not_null, on='user_id')\n",
    "joined['delta'] = joined['time_y'] - joined['time_x']"
   ]
  },
  {
   "cell_type": "code",
   "execution_count": 191,
   "metadata": {},
   "outputs": [
    {
     "data": {
      "text/plain": [
       "46.28"
      ]
     },
     "execution_count": 191,
     "metadata": {},
     "output_type": "execute_result"
    }
   ],
   "source": [
    "joined.delta.sum().days/joined.delta.count()"
   ]
  },
  {
   "cell_type": "code",
   "execution_count": 192,
   "metadata": {},
   "outputs": [
    {
     "data": {
      "text/html": [
       "<div>\n",
       "<style scoped>\n",
       "    .dataframe tbody tr th:only-of-type {\n",
       "        vertical-align: middle;\n",
       "    }\n",
       "\n",
       "    .dataframe tbody tr th {\n",
       "        vertical-align: top;\n",
       "    }\n",
       "\n",
       "    .dataframe thead th {\n",
       "        text-align: right;\n",
       "    }\n",
       "</style>\n",
       "<table border=\"1\" class=\"dataframe\">\n",
       "  <thead>\n",
       "    <tr style=\"text-align: right;\">\n",
       "      <th></th>\n",
       "      <th>user_id</th>\n",
       "      <th>email</th>\n",
       "      <th>geo</th>\n",
       "      <th>time</th>\n",
       "      <th>bet</th>\n",
       "      <th>win</th>\n",
       "      <th>hour</th>\n",
       "      <th>net</th>\n",
       "    </tr>\n",
       "  </thead>\n",
       "  <tbody>\n",
       "    <tr>\n",
       "      <th>0</th>\n",
       "      <td>user_943</td>\n",
       "      <td>Accumanst@gmail.com</td>\n",
       "      <td>Ижевск</td>\n",
       "      <td>2019-01-06 21:06:57</td>\n",
       "      <td>0.0</td>\n",
       "      <td>0.0</td>\n",
       "      <td>21.0</td>\n",
       "      <td>0.0</td>\n",
       "    </tr>\n",
       "    <tr>\n",
       "      <th>1</th>\n",
       "      <td>user_943</td>\n",
       "      <td>Accumanst@gmail.com</td>\n",
       "      <td>Ижевск</td>\n",
       "      <td>2019-01-10 12:16:22</td>\n",
       "      <td>100.0</td>\n",
       "      <td>-100.0</td>\n",
       "      <td>12.0</td>\n",
       "      <td>-100.0</td>\n",
       "    </tr>\n",
       "    <tr>\n",
       "      <th>2</th>\n",
       "      <td>user_943</td>\n",
       "      <td>Accumanst@gmail.com</td>\n",
       "      <td>Ижевск</td>\n",
       "      <td>2019-01-27 01:18:47</td>\n",
       "      <td>100.0</td>\n",
       "      <td>-100.0</td>\n",
       "      <td>1.0</td>\n",
       "      <td>-100.0</td>\n",
       "    </tr>\n",
       "    <tr>\n",
       "      <th>3</th>\n",
       "      <td>user_943</td>\n",
       "      <td>Accumanst@gmail.com</td>\n",
       "      <td>Ижевск</td>\n",
       "      <td>2019-02-10 11:09:24</td>\n",
       "      <td>100.0</td>\n",
       "      <td>5456.0</td>\n",
       "      <td>11.0</td>\n",
       "      <td>5356.0</td>\n",
       "    </tr>\n",
       "    <tr>\n",
       "      <th>4</th>\n",
       "      <td>user_943</td>\n",
       "      <td>Accumanst@gmail.com</td>\n",
       "      <td>Ижевск</td>\n",
       "      <td>2019-02-12 15:09:38</td>\n",
       "      <td>300.0</td>\n",
       "      <td>5245.0</td>\n",
       "      <td>15.0</td>\n",
       "      <td>4945.0</td>\n",
       "    </tr>\n",
       "    <tr>\n",
       "      <th>...</th>\n",
       "      <td>...</td>\n",
       "      <td>...</td>\n",
       "      <td>...</td>\n",
       "      <td>...</td>\n",
       "      <td>...</td>\n",
       "      <td>...</td>\n",
       "      <td>...</td>\n",
       "      <td>...</td>\n",
       "    </tr>\n",
       "    <tr>\n",
       "      <th>970</th>\n",
       "      <td>user_965</td>\n",
       "      <td>Visuareda@yahoo.com</td>\n",
       "      <td>Воронеж</td>\n",
       "      <td>2019-04-20 12:55:41</td>\n",
       "      <td>800.0</td>\n",
       "      <td>6927.0</td>\n",
       "      <td>12.0</td>\n",
       "      <td>6127.0</td>\n",
       "    </tr>\n",
       "    <tr>\n",
       "      <th>971</th>\n",
       "      <td>user_921</td>\n",
       "      <td>Aavast@ya.ru</td>\n",
       "      <td>Ижевск</td>\n",
       "      <td>2019-01-07 01:05:59</td>\n",
       "      <td>0.0</td>\n",
       "      <td>0.0</td>\n",
       "      <td>1.0</td>\n",
       "      <td>0.0</td>\n",
       "    </tr>\n",
       "    <tr>\n",
       "      <th>972</th>\n",
       "      <td>user_921</td>\n",
       "      <td>Aavast@ya.ru</td>\n",
       "      <td>Ижевск</td>\n",
       "      <td>2019-02-05 14:08:57</td>\n",
       "      <td>0.0</td>\n",
       "      <td>0.0</td>\n",
       "      <td>14.0</td>\n",
       "      <td>0.0</td>\n",
       "    </tr>\n",
       "    <tr>\n",
       "      <th>973</th>\n",
       "      <td>user_921</td>\n",
       "      <td>Aavast@ya.ru</td>\n",
       "      <td>Ижевск</td>\n",
       "      <td>2019-02-09 23:20:21</td>\n",
       "      <td>400.0</td>\n",
       "      <td>6067.0</td>\n",
       "      <td>23.0</td>\n",
       "      <td>5667.0</td>\n",
       "    </tr>\n",
       "    <tr>\n",
       "      <th>974</th>\n",
       "      <td>user_921</td>\n",
       "      <td>Aavast@ya.ru</td>\n",
       "      <td>Ижевск</td>\n",
       "      <td>2019-02-10 17:53:37</td>\n",
       "      <td>900.0</td>\n",
       "      <td>-900.0</td>\n",
       "      <td>17.0</td>\n",
       "      <td>-900.0</td>\n",
       "    </tr>\n",
       "  </tbody>\n",
       "</table>\n",
       "<p>975 rows × 8 columns</p>\n",
       "</div>"
      ],
      "text/plain": [
       "      user_id                email      geo                time    bet  \\\n",
       "0    user_943  Accumanst@gmail.com   Ижевск 2019-01-06 21:06:57    0.0   \n",
       "1    user_943  Accumanst@gmail.com   Ижевск 2019-01-10 12:16:22  100.0   \n",
       "2    user_943  Accumanst@gmail.com   Ижевск 2019-01-27 01:18:47  100.0   \n",
       "3    user_943  Accumanst@gmail.com   Ижевск 2019-02-10 11:09:24  100.0   \n",
       "4    user_943  Accumanst@gmail.com   Ижевск 2019-02-12 15:09:38  300.0   \n",
       "..        ...                  ...      ...                 ...    ...   \n",
       "970  user_965  Visuareda@yahoo.com  Воронеж 2019-04-20 12:55:41  800.0   \n",
       "971  user_921         Aavast@ya.ru   Ижевск 2019-01-07 01:05:59    0.0   \n",
       "972  user_921         Aavast@ya.ru   Ижевск 2019-02-05 14:08:57    0.0   \n",
       "973  user_921         Aavast@ya.ru   Ижевск 2019-02-09 23:20:21  400.0   \n",
       "974  user_921         Aavast@ya.ru   Ижевск 2019-02-10 17:53:37  900.0   \n",
       "\n",
       "        win  hour     net  \n",
       "0       0.0  21.0     0.0  \n",
       "1    -100.0  12.0  -100.0  \n",
       "2    -100.0   1.0  -100.0  \n",
       "3    5456.0  11.0  5356.0  \n",
       "4    5245.0  15.0  4945.0  \n",
       "..      ...   ...     ...  \n",
       "970  6927.0  12.0  6127.0  \n",
       "971     0.0   1.0     0.0  \n",
       "972     0.0  14.0     0.0  \n",
       "973  6067.0  23.0  5667.0  \n",
       "974  -900.0  17.0  -900.0  \n",
       "\n",
       "[975 rows x 8 columns]"
      ]
     },
     "execution_count": 192,
     "metadata": {},
     "output_type": "execute_result"
    }
   ],
   "source": [
    "df"
   ]
  },
  {
   "cell_type": "code",
   "execution_count": 196,
   "metadata": {},
   "outputs": [
    {
     "data": {
      "text/plain": [
       "geo\n",
       "Арзангелтск           25813.0\n",
       "Воронеж              107514.0\n",
       "Екатеринбург          28582.0\n",
       "Ижевск                34479.0\n",
       "Казань                75352.0\n",
       "Краснодар              3248.0\n",
       "Красноярск            27397.0\n",
       "Москва             11379755.0\n",
       "Пермь                 19518.0\n",
       "Санкт-Петербург      105345.0\n",
       "Ставрополь              487.0\n",
       "Тюмень                 -499.0\n",
       "Хабаровск             33451.0\n",
       "Ярославль             46845.0\n",
       "Name: win, dtype: float64"
      ]
     },
     "execution_count": 196,
     "metadata": {},
     "output_type": "execute_result"
    }
   ],
   "source": [
    "df.groupby('geo').win.sum()"
   ]
  },
  {
   "cell_type": "code",
   "execution_count": 203,
   "metadata": {},
   "outputs": [
    {
     "data": {
      "text/plain": [
       "62240.846153846156"
      ]
     },
     "execution_count": 203,
     "metadata": {},
     "output_type": "execute_result"
    }
   ],
   "source": [
    "df[df.bet>0].groupby('geo').bet.mean().max()"
   ]
  },
  {
   "cell_type": "code",
   "execution_count": 205,
   "metadata": {},
   "outputs": [
    {
     "data": {
      "text/plain": [
       "127.81602335164835"
      ]
     },
     "execution_count": 205,
     "metadata": {},
     "output_type": "execute_result"
    }
   ],
   "source": [
    "62240.846153846156/486.95652173913044"
   ]
  },
  {
   "cell_type": "code",
   "execution_count": 204,
   "metadata": {},
   "outputs": [
    {
     "data": {
      "text/plain": [
       "486.95652173913044"
      ]
     },
     "execution_count": 204,
     "metadata": {},
     "output_type": "execute_result"
    }
   ],
   "source": [
    "df[df.bet>0].groupby('geo').bet.mean().min()"
   ]
  },
  {
   "cell_type": "code",
   "execution_count": 207,
   "metadata": {},
   "outputs": [
    {
     "data": {
      "text/plain": [
       "geo\n",
       "Арзангелтск         96\n",
       "Воронеж             88\n",
       "Екатеринбург        49\n",
       "Ижевск              61\n",
       "Казань              66\n",
       "Краснодар           86\n",
       "Красноярск          56\n",
       "Москва              61\n",
       "Пермь               55\n",
       "Санкт-Петербург    115\n",
       "Ставрополь          36\n",
       "Тюмень              32\n",
       "Хабаровск           60\n",
       "Ярославль           89\n",
       "Name: user_id, dtype: int64"
      ]
     },
     "execution_count": 207,
     "metadata": {},
     "output_type": "execute_result"
    }
   ],
   "source": [
    "df.groupby('geo').user_id.count()"
   ]
  },
  {
   "cell_type": "code",
   "execution_count": 210,
   "metadata": {},
   "outputs": [
    {
     "ename": "TypeError",
     "evalue": "'Series' object is not callable",
     "output_type": "error",
     "traceback": [
      "\u001b[1;31m---------------------------------------------------------------------------\u001b[0m",
      "\u001b[1;31mTypeError\u001b[0m                                 Traceback (most recent call last)",
      "\u001b[1;32m<ipython-input-210-49528c119203>\u001b[0m in \u001b[0;36m<module>\u001b[1;34m\u001b[0m\n\u001b[1;32m----> 1\u001b[1;33m \u001b[0mlog\u001b[0m\u001b[1;33m.\u001b[0m\u001b[0mtime\u001b[0m\u001b[1;33m.\u001b[0m\u001b[0mdt\u001b[0m\u001b[1;33m.\u001b[0m\u001b[0mmonth\u001b[0m\u001b[1;33m(\u001b[0m\u001b[0minplace\u001b[0m\u001b[1;33m=\u001b[0m\u001b[1;32mTrue\u001b[0m\u001b[1;33m)\u001b[0m\u001b[1;33m\u001b[0m\u001b[1;33m\u001b[0m\u001b[0m\n\u001b[0m",
      "\u001b[1;31mTypeError\u001b[0m: 'Series' object is not callable"
     ]
    }
   ],
   "source": [
    "log.time.apply(lam)"
   ]
  },
  {
   "cell_type": "code",
   "execution_count": 9,
   "metadata": {},
   "outputs": [
    {
     "data": {
      "text/plain": [
       "0    0.175926\n",
       "Name: 0.25, dtype: float64"
      ]
     },
     "execution_count": 9,
     "metadata": {},
     "output_type": "execute_result"
    }
   ],
   "source": [
    "lis1t = pd.DataFrame([1/27, 2/9, 4/9, 8/27])\n",
    "lis1t.quantile(0.25)"
   ]
  },
  {
   "cell_type": "code",
   "execution_count": null,
   "metadata": {},
   "outputs": [],
   "source": []
  }
 ],
 "metadata": {
  "kernelspec": {
   "display_name": "Python 3",
   "language": "python",
   "name": "python3"
  },
  "language_info": {
   "codemirror_mode": {
    "name": "ipython",
    "version": 3
   },
   "file_extension": ".py",
   "mimetype": "text/x-python",
   "name": "python",
   "nbconvert_exporter": "python",
   "pygments_lexer": "ipython3",
   "version": "3.8.3"
  }
 },
 "nbformat": 4,
 "nbformat_minor": 4
}
