{
 "cells": [
  {
   "cell_type": "code",
   "execution_count": 1,
   "metadata": {},
   "outputs": [],
   "source": [
    "import numpy as np\n",
    "import pandas as pd\n",
    "import math"
   ]
  },
  {
   "cell_type": "code",
   "execution_count": 2,
   "metadata": {},
   "outputs": [],
   "source": [
    "apartment = np.array([59.5, 31.4, 19, 22, 60550, 2])\n",
    "share_living_space = apartment[1]/apartment[0]\n",
    "apartment = np.delete(apartment, [0,1])\n",
    "apartment = np.append(apartment, share_living_space)\n"
   ]
  },
  {
   "cell_type": "code",
   "execution_count": 6,
   "metadata": {},
   "outputs": [
    {
     "data": {
      "text/plain": [
       "(5,)"
      ]
     },
     "execution_count": 6,
     "metadata": {},
     "output_type": "execute_result"
    }
   ],
   "source": [
    "apartment.shape"
   ]
  },
  {
   "cell_type": "code",
   "execution_count": 13,
   "metadata": {},
   "outputs": [
    {
     "name": "stdout",
     "output_type": "stream",
     "text": [
      "1 12\n",
      "2 14\n",
      "3 17\n",
      "4 19\n",
      "5 24\n",
      "6 28\n",
      "7 31\n",
      "8 31\n",
      "9 27\n",
      "10 22\n",
      "11 17\n",
      "12 13\n"
     ]
    },
    {
     "data": {
      "text/plain": [
       "12"
      ]
     },
     "execution_count": 13,
     "metadata": {},
     "output_type": "execute_result"
    }
   ],
   "source": [
    "t = np.array([12, 14, 17, 19, 24, 28, 31, 31, 27, 22, 17, 13])\n",
    "for i, j in enumerate(t):\n",
    "    print(i+1, j)\n",
    "\n",
    "t.min()"
   ]
  },
  {
   "cell_type": "code",
   "execution_count": 20,
   "metadata": {},
   "outputs": [
    {
     "data": {
      "text/plain": [
       "array([0.        , 0.        , 1.73205081])"
      ]
     },
     "execution_count": 20,
     "metadata": {},
     "output_type": "execute_result"
    }
   ],
   "source": [
    "x = np.array([1, 2, math.sqrt(3)])\n",
    "y = np.array([-1,-2,0])\n",
    "x+y"
   ]
  },
  {
   "cell_type": "code",
   "execution_count": 22,
   "metadata": {},
   "outputs": [
    {
     "name": "stdout",
     "output_type": "stream",
     "text": [
      "[144. 216. 180.] [394. 496. 400.]\n"
     ]
    }
   ],
   "source": [
    "x = np.array([120, 150,90])\n",
    "y = np.array([130, 130, 130])\n",
    "z= 72 * np.array([2, 3, 2.5])\n",
    "print(z, x+y+z)"
   ]
  },
  {
   "cell_type": "code",
   "execution_count": 24,
   "metadata": {},
   "outputs": [
    {
     "data": {
      "text/plain": [
       "array([-200, 1200,  200,  600])"
      ]
     },
     "execution_count": 24,
     "metadata": {},
     "output_type": "execute_result"
    }
   ],
   "source": [
    "400*np.array([1, 5, 3, 6]) - 200*np.array([3, 4, 5, 9])\n"
   ]
  },
  {
   "cell_type": "code",
   "execution_count": 26,
   "metadata": {},
   "outputs": [
    {
     "data": {
      "text/plain": [
       "7.280109889280518"
      ]
     },
     "execution_count": 26,
     "metadata": {},
     "output_type": "execute_result"
    }
   ],
   "source": [
    "math.sqrt(53)"
   ]
  },
  {
   "cell_type": "code",
   "execution_count": 4,
   "metadata": {},
   "outputs": [],
   "source": [
    "Hut_Paradise_DF = pd.DataFrame({'1.Rent': [65, 70, 120, 35, 40, 50, 100, 90, 85], \n",
    "                                '2.Area': [50, 52, 80, 33, 33, 44, 80, 65, 65], \n",
    "                                '3.Rooms':[3, 2, 1, 1, 1, 2, 4, 3, 2],\n",
    "                                '4.Floor':[5,12,10,3,6,13,8,21,5], \n",
    "                                '5.Demo two weeks':[8, 4, 5, 10, 20, 12, 5, 1, 10], \n",
    "                                '6.Liv.Area': [37, 40, 65, 20, 16, 35, 60, 50, 40]})"
   ]
  },
  {
   "cell_type": "code",
   "execution_count": 39,
   "metadata": {},
   "outputs": [
    {
     "data": {
      "text/plain": [
       "array([[ 65,  50,   3,   5,   8,  37],\n",
       "       [ 70,  52,   2,  12,   4,  40],\n",
       "       [120,  80,   1,  10,   5,  65],\n",
       "       [ 35,  33,   1,   3,  10,  20],\n",
       "       [ 40,  33,   1,   6,  20,  16],\n",
       "       [ 50,  44,   2,  13,  12,  35],\n",
       "       [100,  80,   4,   8,   5,  60],\n",
       "       [ 90,  65,   3,  21,   1,  50],\n",
       "       [ 85,  65,   2,   5,  10,  40]], dtype=int64)"
      ]
     },
     "execution_count": 39,
     "metadata": {},
     "output_type": "execute_result"
    }
   ],
   "source": [
    "hutp = Hut_Paradise_DF.values\n",
    "hutp"
   ]
  },
  {
   "cell_type": "code",
   "execution_count": 49,
   "metadata": {},
   "outputs": [
    {
     "data": {
      "text/plain": [
       "10"
      ]
     },
     "execution_count": 49,
     "metadata": {},
     "output_type": "execute_result"
    }
   ],
   "source": [
    "hutp[:,3][2]"
   ]
  },
  {
   "cell_type": "code",
   "execution_count": 42,
   "metadata": {},
   "outputs": [
    {
     "data": {
      "text/plain": [
       "array([ 5, 12, 10,  3,  6, 13,  8, 21,  5], dtype=int64)"
      ]
     },
     "execution_count": 42,
     "metadata": {},
     "output_type": "execute_result"
    }
   ],
   "source": [
    "hutp[:,3]"
   ]
  },
  {
   "cell_type": "code",
   "execution_count": 52,
   "metadata": {},
   "outputs": [
    {
     "data": {
      "text/plain": [
       "9"
      ]
     },
     "execution_count": 52,
     "metadata": {},
     "output_type": "execute_result"
    }
   ],
   "source": [
    "len(hutp)"
   ]
  },
  {
   "cell_type": "code",
   "execution_count": 53,
   "metadata": {},
   "outputs": [
    {
     "data": {
      "text/plain": [
       "array([13, 12, 15, 13, 17,  9, 20, 15, 25], dtype=int64)"
      ]
     },
     "execution_count": 53,
     "metadata": {},
     "output_type": "execute_result"
    }
   ],
   "source": [
    "hutp[:, 1] - hutp[:, 5]"
   ]
  },
  {
   "cell_type": "code",
   "execution_count": 55,
   "metadata": {},
   "outputs": [
    {
     "data": {
      "text/plain": [
       "array([26., 28., 48., 14., 16., 20., 40., 36., 34.])"
      ]
     },
     "execution_count": 55,
     "metadata": {},
     "output_type": "execute_result"
    }
   ],
   "source": [
    "hutp[:,0] *0.4"
   ]
  },
  {
   "cell_type": "code",
   "execution_count": 57,
   "metadata": {},
   "outputs": [
    {
     "data": {
      "text/plain": [
       "27.2"
      ]
     },
     "execution_count": 57,
     "metadata": {},
     "output_type": "execute_result"
    }
   ],
   "source": [
    "array = np.arrange([])"
   ]
  },
  {
   "cell_type": "code",
   "execution_count": 2,
   "metadata": {},
   "outputs": [
    {
     "data": {
      "text/plain": [
       "array([140, 280, 420, 210,  70, 560, 280, 112, 280])"
      ]
     },
     "execution_count": 2,
     "metadata": {},
     "output_type": "execute_result"
    }
   ],
   "source": [
    "14*np.array([10,20,30,15,5,40,20,8,20])"
   ]
  },
  {
   "cell_type": "code",
   "execution_count": 7,
   "metadata": {},
   "outputs": [
    {
     "data": {
      "text/plain": [
       "1348"
      ]
     },
     "execution_count": 7,
     "metadata": {},
     "output_type": "execute_result"
    }
   ],
   "source": [
    "time=np.array([10,20,30,15,5,40,20,8,20])\n",
    "\n",
    "np.dot(Hut_Paradise_DF.iloc[:,4], time)"
   ]
  },
  {
   "cell_type": "code",
   "execution_count": 8,
   "metadata": {},
   "outputs": [],
   "source": [
    "u=np.array([3,0,1,1,1])\n",
    "v=np.array([0,1,0,2,-2])\n",
    "w=np.array([1,-4,-1,0,-2])"
   ]
  },
  {
   "cell_type": "code",
   "execution_count": 12,
   "metadata": {},
   "outputs": [
    {
     "data": {
      "text/plain": [
       "0"
      ]
     },
     "execution_count": 12,
     "metadata": {},
     "output_type": "execute_result"
    }
   ],
   "source": [
    "new = 2*v-3*w\n",
    "np.dot(new, u)"
   ]
  },
  {
   "cell_type": "code",
   "execution_count": 14,
   "metadata": {},
   "outputs": [
    {
     "name": "stdout",
     "output_type": "stream",
     "text": [
      "[0.8660254  0.         0.28867513 0.28867513 0.28867513] [ 0.          0.33333333  0.          0.66666667 -0.66666667] [ 0.21320072 -0.85280287 -0.21320072  0.         -0.42640143]\n"
     ]
    }
   ],
   "source": [
    "u_norm =  u/np.linalg.norm(u)\n",
    "v_norm = v/np.linalg.norm(v)\n",
    "w_norm = w/np.linalg.norm(w)\n",
    "\n",
    "print(u_norm, v_norm, w_norm)"
   ]
  },
  {
   "cell_type": "code",
   "execution_count": 15,
   "metadata": {},
   "outputs": [],
   "source": [
    "A = np.matrix(\"1, -5; 2, 2; 0, 3\")"
   ]
  },
  {
   "cell_type": "code",
   "execution_count": 17,
   "metadata": {},
   "outputs": [
    {
     "data": {
      "text/plain": [
       "matrix([[ 1,  2,  0],\n",
       "        [-5,  2,  3]])"
      ]
     },
     "execution_count": 17,
     "metadata": {},
     "output_type": "execute_result"
    }
   ],
   "source": [
    "A.T"
   ]
  },
  {
   "cell_type": "code",
   "execution_count": 18,
   "metadata": {},
   "outputs": [],
   "source": [
    "Husband_Income = np.array([100,220,140])\n",
    "Wife_Income = np.array([150,200,130])\n",
    "Mother_In_Law_Income = np.array([90,80,100])\n",
    "\n",
    "Husband_Сonsumption = np.array([50,50,60])\n",
    "Wife_Сonsumption = np.array([100,80,140])\n",
    "Mother_In_Law_Сonsumption = np.array([100,20,140])"
   ]
  },
  {
   "cell_type": "code",
   "execution_count": 33,
   "metadata": {},
   "outputs": [
    {
     "data": {
      "text/plain": [
       "array([[100, 150,  90],\n",
       "       [220, 200,  80],\n",
       "       [140, 130, 100]])"
      ]
     },
     "execution_count": 33,
     "metadata": {},
     "output_type": "execute_result"
    }
   ],
   "source": [
    "inc = np.array([Husband_Income,Wife_Income,Mother_In_Law_Income]).T\n",
    "inc"
   ]
  },
  {
   "cell_type": "code",
   "execution_count": 34,
   "metadata": {},
   "outputs": [
    {
     "data": {
      "text/plain": [
       "array([[ 50, 100, 100],\n",
       "       [ 50,  80,  20],\n",
       "       [ 60, 140, 140]])"
      ]
     },
     "execution_count": 34,
     "metadata": {},
     "output_type": "execute_result"
    }
   ],
   "source": [
    "cons = np.array([Husband_Сonsumption, Wife_Сonsumption, Mother_In_Law_Сonsumption]).T\n",
    "cons"
   ]
  },
  {
   "cell_type": "code",
   "execution_count": 36,
   "metadata": {},
   "outputs": [],
   "source": [
    "new_inc = inc*0.87"
   ]
  },
  {
   "cell_type": "code",
   "execution_count": 38,
   "metadata": {},
   "outputs": [
    {
     "data": {
      "text/plain": [
       "array([[ 37. ,  30.5, -21.7],\n",
       "       [141.4,  94. ,  49.6],\n",
       "       [ 61.8, -26.9, -53. ]])"
      ]
     },
     "execution_count": 38,
     "metadata": {},
     "output_type": "execute_result"
    }
   ],
   "source": [
    "P = new_inc - cons\n",
    "P\n"
   ]
  },
  {
   "cell_type": "code",
   "execution_count": 40,
   "metadata": {},
   "outputs": [
    {
     "data": {
      "text/plain": [
       "matrix([[2, 1, 3],\n",
       "        [1, 5, 0],\n",
       "        [3, 0, 5]])"
      ]
     },
     "execution_count": 40,
     "metadata": {},
     "output_type": "execute_result"
    }
   ],
   "source": [
    "X = np.matrix(\"1,1;2,-1;1,2\")\n",
    "X@X.T"
   ]
  },
  {
   "cell_type": "code",
   "execution_count": 48,
   "metadata": {},
   "outputs": [
    {
     "data": {
      "text/plain": [
       "(2, 5)"
      ]
     },
     "execution_count": 48,
     "metadata": {},
     "output_type": "execute_result"
    }
   ],
   "source": [
    "A = np.array([[5,-1,3,1,2], [-2,8,5,-1,1]])\n",
    "x = np.array([1,2,3,4,5])\n",
    "A.shape"
   ]
  },
  {
   "cell_type": "code",
   "execution_count": 50,
   "metadata": {},
   "outputs": [
    {
     "name": "stdout",
     "output_type": "stream",
     "text": [
      "(5, 4) (2, 5)\n"
     ]
    },
    {
     "data": {
      "text/plain": [
       "array([[  2,   9,  11,  14],\n",
       "       [  8, -10, -14, -11]])"
      ]
     },
     "execution_count": 50,
     "metadata": {},
     "output_type": "execute_result"
    }
   ],
   "source": [
    "A = np.array([[1,9,8,5], [3,6,3,2], [3,3,3,3], [0,2,5,9], [4,4,1,2]])\n",
    "B = np.array([[1,-1,0,1,1], [-2,0,2,-1,1]])\n",
    "print(A.shape, B.shape)\n",
    "B@A"
   ]
  },
  {
   "cell_type": "code",
   "execution_count": 61,
   "metadata": {},
   "outputs": [
    {
     "data": {
      "text/plain": [
       "array([[22,  3,  0],\n",
       "       [ 3,  7,  0],\n",
       "       [ 0,  0,  3]])"
      ]
     },
     "execution_count": 61,
     "metadata": {},
     "output_type": "execute_result"
    }
   ],
   "source": [
    "x = np.array([1,2,1,0,4])\n",
    "y = np.array([2,1,-1,1,0])\n",
    "z = np.array([-1,1,-1,0,0])\n",
    "A = np.array([x, y, z])\n",
    "A@A.T"
   ]
  },
  {
   "cell_type": "code",
   "execution_count": 85,
   "metadata": {},
   "outputs": [],
   "source": [
    "Count_DF = pd.DataFrame({'Женские стрижки': [10, 2, 12, 4, 6, 10, 22, 7], \n",
    "                                'Мужские стрижки': [5, 21, 12, 8, 25, 3, 1, 0], \n",
    "                                'Окрашивания':[12, 3, 0, 18, 27, 2, 4, 31],\n",
    "                              'Укладка':[15, 25, 30, 14, 25, 17, 25, 31],\n",
    "                                'Уход':[10, 6, 4, 5, 18, 12, 20, 28]\n",
    "                                }, \n",
    "                               index=['Аня', 'Борис', 'Вика', 'Галя', 'Дима', 'Егор', 'Женя','Юра'])\n",
    "Price_DF = pd.DataFrame({'Женские стрижки': [2, 1.8, 2, 1.8, 2.5, 5, 1.1, 4.5], \n",
    "                                'Мужские стрижки': [1.5, 2.5, 2, 1.2, 3.5, 5, 1, 4], \n",
    "                                'Окрашивания':[1, 1, 0, 2.8, 2, 3, 1.5, 2.5],\n",
    "                              'Укладка':[0.8, 1, 0.5, 0.8, 1, 2, 0.5, 1],\n",
    "                                'Уход':[1, 1, 2, 2, 1.5, 2.5, 1.7, 2] \n",
    "                                }, \n",
    "                               index=['Аня', 'Борис', 'Вика', 'Галя', 'Дима', 'Егор', 'Женя','Юра'])"
   ]
  },
  {
   "cell_type": "code",
   "execution_count": 86,
   "metadata": {},
   "outputs": [
    {
     "name": "stdout",
     "output_type": "stream",
     "text": [
      "[[10  5 12 15 10]\n",
      " [ 2 21  3 25  6]\n",
      " [12 12  0 30  4]\n",
      " [ 4  8 18 14  5]\n",
      " [ 6 25 27 25 18]\n",
      " [10  3  2 17 12]\n",
      " [22  1  4 25 20]\n",
      " [ 7  0 31 31 28]] [[2.  1.5 1.  0.8 1. ]\n",
      " [1.8 2.5 1.  1.  1. ]\n",
      " [2.  2.  0.  0.5 2. ]\n",
      " [1.8 1.2 2.8 0.8 2. ]\n",
      " [2.5 3.5 2.  1.  1.5]\n",
      " [5.  5.  3.  2.  2.5]\n",
      " [1.1 1.  1.5 0.5 1.7]\n",
      " [4.5 4.  2.5 1.  2. ]]\n"
     ]
    }
   ],
   "source": [
    "count = Count_DF.values\n",
    "price = Price_DF.values\n",
    "print(count,  price)"
   ]
  },
  {
   "cell_type": "code",
   "execution_count": 87,
   "metadata": {},
   "outputs": [
    {
     "data": {
      "text/plain": [
       "array([ 3.6, 52.5,  3. , 25. ,  6. ])"
      ]
     },
     "execution_count": 87,
     "metadata": {},
     "output_type": "execute_result"
    }
   ],
   "source": [
    "price[1]*count[1]"
   ]
  },
  {
   "cell_type": "code",
   "execution_count": 88,
   "metadata": {},
   "outputs": [],
   "source": [
    "com = [0.2, 0.2, 0.3, 0.1, 0.1]\n",
    "inc_all = (price*count)@com"
   ]
  },
  {
   "cell_type": "code",
   "execution_count": 89,
   "metadata": {},
   "outputs": [],
   "source": [
    "style_inc = (price*count)@(np.ones(5)-com)"
   ]
  },
  {
   "cell_type": "code",
   "execution_count": 90,
   "metadata": {},
   "outputs": [
    {
     "data": {
      "text/plain": [
       "array([ 50.2 ,  74.88,  59.1 ,  67.8 , 166.6 , 113.8 ,  66.21, 157.75])"
      ]
     },
     "execution_count": 90,
     "metadata": {},
     "output_type": "execute_result"
    }
   ],
   "source": [
    "style_inc"
   ]
  },
  {
   "cell_type": "code",
   "execution_count": 91,
   "metadata": {},
   "outputs": [
    {
     "data": {
      "text/plain": [
       "matrix([[-0.66666667, -1.33333333,  1.        ],\n",
       "        [-0.66666667,  3.66666667, -2.        ],\n",
       "        [ 1.        , -2.        ,  1.        ]])"
      ]
     },
     "execution_count": 91,
     "metadata": {},
     "output_type": "execute_result"
    }
   ],
   "source": [
    "A = np.matrix(\"1,2,3;4,5,6;7,8,10\")\n",
    "np.linalg.inv(A)"
   ]
  },
  {
   "cell_type": "code",
   "execution_count": 97,
   "metadata": {},
   "outputs": [
    {
     "data": {
      "text/plain": [
       "0.12500000000000003"
      ]
     },
     "execution_count": 97,
     "metadata": {},
     "output_type": "execute_result"
    }
   ],
   "source": [
    "A = np.matrix(\"2,0,0; 0,1,0; 0,0,4\")\n",
    "np.linalg.det(A2)"
   ]
  },
  {
   "cell_type": "code",
   "execution_count": 96,
   "metadata": {},
   "outputs": [],
   "source": [
    "A2=np.linalg.inv(A)"
   ]
  },
  {
   "cell_type": "code",
   "execution_count": 98,
   "metadata": {},
   "outputs": [
    {
     "data": {
      "text/plain": [
       "array([[-1.875  ,  2.3125 , -0.03125],\n",
       "       [ 0.375  , -0.5625 ,  0.15625],\n",
       "       [ 1.25   , -1.375  , -0.0625 ]])"
      ]
     },
     "execution_count": 98,
     "metadata": {},
     "output_type": "execute_result"
    }
   ],
   "source": [
    "A = np.array([[8, 6, 11], [7, 5, 9],[6, 10, 6]])\n",
    "np.linalg.inv(A)"
   ]
  },
  {
   "cell_type": "code",
   "execution_count": 99,
   "metadata": {},
   "outputs": [],
   "source": [
    "v1 = np.array([9, 10, 7, 7, 9])\n",
    "v2 = np.array([2, 0, 5, 1, 4])\n",
    "v3 = np.array([4, 0, 0, 4, 1])\n",
    "v4 = np.array([3, -4, 3, -1, -4])\n",
    "A = np.array([v1,v2,v3,v4])"
   ]
  },
  {
   "cell_type": "code",
   "execution_count": 100,
   "metadata": {},
   "outputs": [
    {
     "data": {
      "text/plain": [
       "4"
      ]
     },
     "execution_count": 100,
     "metadata": {},
     "output_type": "execute_result"
    }
   ],
   "source": [
    "np.linalg.matrix_rank(A)"
   ]
  },
  {
   "cell_type": "code",
   "execution_count": 104,
   "metadata": {},
   "outputs": [],
   "source": [
    "B=A@A.T"
   ]
  },
  {
   "cell_type": "code",
   "execution_count": 107,
   "metadata": {},
   "outputs": [
    {
     "data": {
      "text/plain": [
       "array([[ 0.01711488, -0.02798543, -0.02623063,  0.01599775],\n",
       "       [-0.02798543,  0.071967  ,  0.03031441, -0.02722776],\n",
       "       [-0.02623063,  0.03031441,  0.07683106, -0.02640498],\n",
       "       [ 0.01599775, -0.02722776, -0.02640498,  0.03479318]])"
      ]
     },
     "execution_count": 107,
     "metadata": {},
     "output_type": "execute_result"
    }
   ],
   "source": [
    "np.linalg.inv(B)"
   ]
  },
  {
   "cell_type": "code",
   "execution_count": null,
   "metadata": {},
   "outputs": [],
   "source": []
  }
 ],
 "metadata": {
  "kernelspec": {
   "display_name": "Python 3",
   "language": "python",
   "name": "python3"
  },
  "language_info": {
   "codemirror_mode": {
    "name": "ipython",
    "version": 3
   },
   "file_extension": ".py",
   "mimetype": "text/x-python",
   "name": "python",
   "nbconvert_exporter": "python",
   "pygments_lexer": "ipython3",
   "version": "3.8.3"
  }
 },
 "nbformat": 4,
 "nbformat_minor": 4
}
